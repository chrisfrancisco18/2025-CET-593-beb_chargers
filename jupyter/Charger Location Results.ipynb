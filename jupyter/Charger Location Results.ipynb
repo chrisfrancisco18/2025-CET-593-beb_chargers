{
 "cells": [
  {
   "cell_type": "code",
   "execution_count": 1,
   "metadata": {},
   "source": [
    "import pandas as pd\n",
    "import matplotlib.pyplot as plt\n",
    "import os"
   ],
   "outputs": []
  },
  {
   "cell_type": "code",
   "execution_count": 2,
   "metadata": {},
   "source": [
    "plt.rcParams.update({\n",
    "    \"text.usetex\": False,\n",
    "    \"font.family\": \"Times\",\n",
    "    \"font.serif\": \"Times\",\n",
    "    \"font.sans-serif\": [\"Times\"]})"
   ],
   "outputs": []
  },
  {
   "cell_type": "code",
   "execution_count": 7,
   "metadata": {},
   "source": [
    "prefix = '../results/sensitivity'\n",
    "all_files = os.listdir(prefix)"
   ],
   "outputs": []
  },
  {
   "cell_type": "code",
   "execution_count": 8,
   "metadata": {},
   "source": [
    "alpha_files = [prefix + '/' + f for f in all_files if f[:5] == 'alpha' and f[-3:] == 'csv']\n",
    "# Read in results for varying beta\n",
    "alpha_dfs = list()\n",
    "for f in alpha_files:\n",
    "    alpha_dfs.append(pd.read_csv(f))\n",
    "alpha_df = pd.concat(alpha_dfs).sort_values(by='alpha')"
   ],
   "outputs": []
  },
  {
   "cell_type": "code",
   "execution_count": 52,
   "metadata": {},
   "source": [
    "all_files = os.listdir()\n",
    "xi_files = [f for f in all_files if f[:2] == 'xi']\n",
    "xi_dfs = list()\n",
    "for f in xi_files:\n",
    "    xi_dfs.append(pd.read_csv(f))\n",
    "xi_df = pd.concat(xi_dfs).sort_values(by='xi')"
   ],
   "outputs": []
  },
  {
   "cell_type": "code",
   "execution_count": 56,
   "metadata": {},
   "source": [
    "all_files = os.listdir()\n",
    "u_max_files = [f for f in all_files if f[:5] == 'u_max']\n",
    "u_max_dfs = list()\n",
    "for f in u_max_files:\n",
    "    u_max_dfs.append(pd.read_csv(f))\n",
    "u_max_df = pd.concat(u_max_dfs).sort_values(by='u_max').reset_index()"
   ],
   "outputs": []
  },
  {
   "cell_type": "code",
   "execution_count": 57,
   "metadata": {},
   "source": [
    "u_max_df"
   ],
   "outputs": []
  },
  {
   "cell_type": "code",
   "execution_count": 54,
   "metadata": {},
   "source": [
    "# TODO: why is delay so high with just three charges?\n",
    "xi_df['avg_charge_time'] = xi_df['charge_time'] / xi_df['num_charges']"
   ],
   "outputs": []
  },
  {
   "cell_type": "code",
   "execution_count": 55,
   "metadata": {},
   "source": [
    "xi_df"
   ],
   "outputs": []
  },
  {
   "cell_type": "code",
   "execution_count": 47,
   "metadata": {},
   "source": [
    "fix_df"
   ],
   "outputs": []
  },
  {
   "cell_type": "code",
   "execution_count": 20,
   "metadata": {},
   "source": [
    "def plot_two_columns(df, x, x_label, y1, y1_label, y2, y2_label,\n",
    "                     save_name, legend_loc='center', yscale='diff'):\n",
    "    if yscale == 'diff':\n",
    "        fig, ax1 = plt.subplots(figsize=(9,6))\n",
    "        ax1.set_xlabel(x_label)\n",
    "        ax1.set_ylabel(y1_label)\n",
    "        ax1.plot(df[x], df[y1], label=y1_label, color='r')\n",
    "\n",
    "        ax2 = ax1.twinx()\n",
    "        ax2.set_ylabel(y2_label)\n",
    "        ax2.plot(df[x], df[y2], label=y2_label, color='b')\n",
    "        fig.legend(loc=legend_loc)\n",
    "        fig.tight_layout()\n",
    "        fig.savefig(save_name, dpi=600)\n",
    "        \n",
    "    elif yscale == 'same':\n",
    "        plt.plot(df[x], df[y1], label=y1_label, color='r')\n",
    "        plt.plot(df[x], df[y2], label=y2_label, color='b')\n",
    "        plt.ylabel('Time (min)')\n",
    "        plt.xlabel(x_label)\n",
    "        plt.legend(loc=legend_loc)\n",
    "        plt.tight_layout()\n",
    "        plt.savefig(save_name, dpi=600)"
   ],
   "outputs": []
  },
  {
   "cell_type": "code",
   "execution_count": 91,
   "metadata": {},
   "source": [
    "plt.rcParams.update({'font.size': 16})"
   ],
   "outputs": []
  },
  {
   "cell_type": "code",
   "execution_count": 115,
   "metadata": {},
   "source": [
    "fig, ax1 = plt.subplots(figsize=(9,6))\n",
    "ax1.set_xlabel(r' $\\rho $ (kW)')\n",
    "ax1.set_ylabel('Time (min)')\n",
    "ax1.plot(rho_df['rho'], rho_df['delay_total'], label='Delay time', color='r')\n",
    "ax1.plot(rho_df['rho'], rho_df['wait_time'], label='Waiting time', color='b')\n",
    "\n",
    "ax2 = ax1.twinx()\n",
    "ax2.set_ylabel('Charges per vehicle')\n",
    "ax2.plot(rho_df['rho'], rho_df['num_charges']/54, label='Number of charges', color='g')\n",
    "fig.legend(bbox_to_anchor=(0.8, 0.9))\n",
    "fig.tight_layout()\n",
    "fig.savefig('rho_sensitivity_results.png', dpi=600)"
   ],
   "outputs": []
  },
  {
   "cell_type": "code",
   "execution_count": 119,
   "metadata": {},
   "source": [
    "fig, ax1 = plt.subplots(figsize=(9,6))\n",
    "ax1.set_xlabel(r' $ \\overline{u^v} $ (kWh)')\n",
    "ax1.set_ylabel('Time (min)')\n",
    "ax1.plot(u_max_df['u_max'], u_max_df['delay_total'], label='Delay time', color='r')\n",
    "ax1.plot(u_max_df['u_max'], u_max_df['wait_time'], label='Waiting time', color='b')\n",
    "\n",
    "ax2 = ax1.twinx()\n",
    "ax2.set_ylabel('Total charger visits')\n",
    "ax2.plot(u_max_df['u_max'], u_max_df['num_charges'], label='Charges', color='g')\n",
    "fig.legend(bbox_to_anchor=(0.8, 0.9))\n",
    "fig.tight_layout()\n",
    "fig.savefig('u_max_sensitivity_results.png', dpi=600)"
   ],
   "outputs": []
  },
  {
   "cell_type": "code",
   "execution_count": null,
   "metadata": {},
   "source": [],
   "outputs": []
  },
  {
   "cell_type": "code",
   "execution_count": 118,
   "metadata": {},
   "source": [
    "fig, ax1 = plt.subplots(figsize=(9,6))\n",
    "ax1.set_xlabel(r' $\\beta $')\n",
    "ax1.set_ylabel('Time (min)')\n",
    "ax1.plot(beta_df['beta'], beta_df['delay_total'], label='Delay time', color='r')\n",
    "ax1.plot(beta_df['beta'], beta_df['wait_time'], label='Waiting time', color='b')\n",
    "\n",
    "ax2 = ax1.twinx()\n",
    "ax2.set_ylabel('Charges per vehicle')\n",
    "ax2.plot(beta_df['beta'], beta_df['num_charges']/54, label='Number of charges', color='g')\n",
    "fig.legend(bbox_to_anchor=(0.9, 0.7))\n",
    "# ax2.legend(bbox_to_anchor=(1, 0.5))\n",
    "# fig.tight_layout()\n",
    "fig.savefig('beta_sensitivity_results.png', dpi=600)"
   ],
   "outputs": []
  },
  {
   "cell_type": "code",
   "execution_count": 81,
   "metadata": {},
   "source": [
    "plt.figure(figsize=(15, 6))\n",
    "plt.subplot(1, 2, 1)\n",
    "plt.plot(rho_df['rho'], rho_df['delay_total'], label='delay', color='r')\n",
    "plt.plot(rho_df['rho'], rho_df['wait_time'], label='waiting', color='b')\n",
    "plt.ylabel('Time (min)')\n",
    "plt.xlabel(r' $\\rho $')\n",
    "plt.legend()\n",
    "\n",
    "plt.subplot(1, 2, 2)\n",
    "plt.plot(rho_df['rho'], rho_df['num_charges']/54)\n",
    "plt.ylabel('Number of charges')\n",
    "\n",
    "plt.tight_layout()"
   ],
   "outputs": []
  },
  {
   "cell_type": "code",
   "execution_count": null,
   "metadata": {},
   "source": [
    "def plot_wait_delay_chgs(df, x, x_label, y1, y1_label, y2, y2_label,\n",
    "                         save_name, legend_loc='center', yscale='diff'):\n",
    "\n",
    "    fig, ax1 = plt.subplots(1, 2, 1, figsize=(9,6))\n",
    "    ax1.set_xlabel(x_label)\n",
    "    ax1.set_ylabel(y1_label)\n",
    "    ax1.plot(df[x], df[y1], label=y1_label, color='r')\n",
    "\n",
    "    ax2 = ax1.twinx()\n",
    "    ax2.set_ylabel(y2_label)\n",
    "    ax2.plot(df[x], df[y2], label=y2_label, color='b')\n",
    "    fig.legend(loc=legend_loc)\n",
    "    fig.tight_layout()\n",
    "    fig.savefig(save_name, dpi=600)\n",
    "        \n",
    "    elif yscale == 'same':\n",
    "        plt.subplots(2, 1, 2)\n",
    "        plt.plot(df[x], df[y1], label=y1_label, color='r')\n",
    "        plt.plot(df[x], df[y2], label=y2_label, color='b')\n",
    "        plt.ylabel('Time (min)')\n",
    "        plt.xlabel(x_label)\n",
    "        plt.legend(loc=legend_loc)\n",
    "        plt.tight_layout()\n",
    "        plt.savefig(save_name, dpi=600)"
   ],
   "outputs": []
  },
  {
   "cell_type": "code",
   "execution_count": 22,
   "metadata": {},
   "source": [
    "plot_two_columns(beta_df, 'beta', r'$ \\beta $', 'wait_time', 'Wait time',\n",
    "                'delay_total', 'Delay time', 'wait_delay_vs_beta.png',\n",
    "                'upper left', 'same')"
   ],
   "outputs": []
  },
  {
   "cell_type": "code",
   "execution_count": 61,
   "metadata": {},
   "source": [
    "plt.figure(figsize=(9, 6))\n",
    "plt.plot(beta_df['beta'], beta_df['num_charges']/54, color='b')\n",
    "plt.xlabel(r'$ \\beta $')\n",
    "plt.ylabel('Average charges per vehicle')\n",
    "plt.savefig('charger_visits_vs_beta.png', dpi=600)"
   ],
   "outputs": []
  },
  {
   "cell_type": "code",
   "execution_count": 16,
   "metadata": {},
   "source": [
    "plt.figure(figsize=(9, 12))\n",
    "plt.subplot(3, 1, 1)\n",
    "plt.plot(beta_df['beta'], beta_df['delay_total'])\n",
    "plt.plot(beta_df['beta'], beta_df['wait_time'])\n",
    "plt.xlabel(r'$ \\beta $')\n",
    "plt.ylabel('Delay time (min.)')\n",
    "plt.title('(a)')\n",
    "plt.tight_layout()\n",
    "\n",
    "plt.subplot(3, 1, 2)\n",
    "plt.plot(beta_df['beta'], beta_df['wait_time'])\n",
    "plt.xlabel(r'$ \\beta $')\n",
    "plt.ylabel('Waiting time (min)')\n",
    "plt.title('(b)')\n",
    "plt.tight_layout()\n",
    "\n",
    "plt.subplot(3, 1, 3)\n",
    "plt.plot(beta_df['beta'], beta_df['num_charges']/54)\n",
    "plt.xlabel(r'$ \\beta $')\n",
    "plt.ylabel('Average charges per vehicle')\n",
    "plt.title('(c)')\n",
    "plt.tight_layout()\n",
    "# plt.subplots_adjust(wspace=0.6)\n",
    "plt.savefig('beta_plots_v2.png', dpi=600)"
   ],
   "outputs": []
  },
  {
   "cell_type": "markdown",
   "metadata": {},
   "source": [
    "# Charging Power $\\rho$"
   ]
  },
  {
   "cell_type": "code",
   "execution_count": 74,
   "metadata": {},
   "source": [
    "rho_files = [f for f in all_files if f[:4] == 'rho_']\n",
    "# Read in results for varying rho\n",
    "rho_dfs = list()\n",
    "for f in rho_files:\n",
    "    rho_dfs.append(pd.read_csv(f))\n",
    "rho_df = pd.concat(rho_dfs).sort_values(by='rho')"
   ],
   "outputs": []
  },
  {
   "cell_type": "code",
   "execution_count": 75,
   "metadata": {},
   "source": [
    "plt.figure(figsize=(9, 12))\n",
    "base_delay = 2527.1\n",
    "base_waiting = 6929\n",
    "plt.subplot(3, 1, 1)\n",
    "plt.plot(rho_df['rho'], 100*(rho_df['delay_total']-base_delay)/base_delay)\n",
    "plt.xlabel(r'$ \\rho $')\n",
    "plt.ylabel('Change in delay time (%)')\n",
    "plt.title('(a)')\n",
    "plt.tight_layout()\n",
    "\n",
    "plt.subplot(3, 1, 2)\n",
    "plt.plot(rho_df['rho'], 100*(rho_df['wait_time'] - base_waiting)/base_waiting)\n",
    "plt.xlabel(r'$ \\rho $')\n",
    "plt.ylabel('Change in waiting time (%)')\n",
    "plt.title('(b)')\n",
    "plt.tight_layout()\n",
    "\n",
    "plt.subplot(3, 1, 3)\n",
    "plt.plot(rho_df['rho'], rho_df['num_charges']/54)\n",
    "plt.xlabel(r'$ \\rho $')\n",
    "plt.ylabel('Average charges per vehicle')\n",
    "plt.title('(c)')\n",
    "plt.tight_layout()\n",
    "# plt.subplots_adjust(wspace=0.6)\n",
    "plt.savefig('delay_wait_chgs_rho.png', dpi=600)"
   ],
   "outputs": []
  },
  {
   "cell_type": "code",
   "execution_count": 77,
   "metadata": {},
   "source": [
    "plot_two_columns(rho_df, 'rho', r'$ \\rho $ (kW)', 'wait_time', 'Wait time',\n",
    "                'delay_total', 'Delay time', 'wait_delay_vs_rho.png', 'upper center', 'same')"
   ],
   "outputs": []
  },
  {
   "cell_type": "code",
   "execution_count": 78,
   "metadata": {},
   "source": [
    "plt.plot(rho_df['rho'], rho_df['num_charges']/54)"
   ],
   "outputs": []
  },
  {
   "cell_type": "code",
   "execution_count": 63,
   "metadata": {},
   "source": [
    "for _, r in beta_df.reset_index().iterrows():\n",
    "    print(r['stations'])"
   ],
   "outputs": []
  },
  {
   "cell_type": "code",
   "execution_count": 42,
   "metadata": {},
   "source": [
    "fix_df"
   ],
   "outputs": []
  },
  {
   "cell_type": "code",
   "execution_count": 43,
   "metadata": {},
   "source": [
    "plot_two_columns(fix_df, 'alpha', r'$ \\alpha $', 'wait_time', 'Wait time (minutes)',\n",
    "                'delay_total', 'Delay time (minutes)', 'wait_delay_vs_alpha.png')"
   ],
   "outputs": []
  },
  {
   "cell_type": "code",
   "execution_count": 96,
   "metadata": {},
   "source": [
    "plt.plot(fix_df['fixed_cost'], fix_df['charge_time'])"
   ],
   "outputs": []
  },
  {
   "cell_type": "markdown",
   "metadata": {},
   "source": [
    " # $\\alpha$"
   ]
  },
  {
   "cell_type": "code",
   "execution_count": 67,
   "metadata": {},
   "source": [
    "all_files = os.listdir()\n",
    "alpha_files = [f for f in all_files if f[:5] == 'alpha']\n",
    "alpha_dfs = list()\n",
    "for f in alpha_files:\n",
    "    alpha_dfs.append(pd.read_csv(f))\n",
    "alpha_df = pd.concat(alpha_dfs).sort_values(by='alpha').reset_index()"
   ],
   "outputs": []
  },
  {
   "cell_type": "code",
   "execution_count": 68,
   "metadata": {},
   "source": [
    "alpha_df"
   ],
   "outputs": []
  },
  {
   "cell_type": "code",
   "execution_count": 10,
   "metadata": {},
   "source": [
    "plt.figure(figsize=(9, 6))\n",
    "plt.scatter(alpha_df['alpha'], alpha_df['num_stations'], color='b')\n",
    "# plt.scatter(alpha_df['alpha'], alpha_df['num_charges'], color='r')\n",
    "plt.xlabel(r'$ \\alpha $')\n",
    "plt.yticks([1, 2, 3])\n",
    "plt.ylabel('Number of charging stations')\n",
    "plt.savefig('num_stations_vs_alpha.png', dpi=600)"
   ],
   "outputs": []
  },
  {
   "cell_type": "code",
   "execution_count": 121,
   "metadata": {},
   "source": [
    "beta_df.to_csv('beta_results_trb.csv', index=False)"
   ],
   "outputs": []
  },
  {
   "cell_type": "code",
   "execution_count": 122,
   "metadata": {},
   "source": [
    "alpha_df.to_csv('alpha_results_trb.csv', index=False)"
   ],
   "outputs": []
  },
  {
   "cell_type": "code",
   "execution_count": 123,
   "metadata": {},
   "source": [
    "rho_df.to_csv('rho_results_trb.csv', index=False)"
   ],
   "outputs": []
  },
  {
   "cell_type": "code",
   "execution_count": 124,
   "metadata": {},
   "source": [
    "xi_df.to_csv('xi_results_trb.csv', index=False)"
   ],
   "outputs": []
  },
  {
   "cell_type": "code",
   "execution_count": 126,
   "metadata": {},
   "source": [
    "u_max_df.to_csv('u_max_results_trb.csv', index=False)"
   ],
   "outputs": []
  },
  {
   "cell_type": "code",
   "execution_count": null,
   "metadata": {},
   "source": [],
   "outputs": []
  }
 ],
 "metadata": {
  "kernelspec": {
   "display_name": "Python 3 (ipykernel)",
   "language": "python",
   "name": "python3"
  },
  "language_info": {
   "codemirror_mode": {
    "name": "ipython",
    "version": 3
   },
   "file_extension": ".py",
   "mimetype": "text/x-python",
   "name": "python",
   "nbconvert_exporter": "python",
   "pygments_lexer": "ipython3",
   "version": "3.12.3"
  }
 },
 "nbformat": 4,
 "nbformat_minor": 4
}
