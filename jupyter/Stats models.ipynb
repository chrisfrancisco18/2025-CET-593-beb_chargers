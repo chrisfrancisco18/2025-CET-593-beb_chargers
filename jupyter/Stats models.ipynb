{
 "cells": [
  {
   "cell_type": "code",
   "execution_count": 122,
   "id": "db744300-ff73-492e-aaf5-3c7ddae0052b",
   "metadata": {},
   "source": [
    "import pandas as pd\n",
    "import numpy as np\n",
    "import statsmodels.api as sm\n",
    "import plotly.express as px\n",
    "import plotly.graph_objects as go\n",
    "import datetime"
   ],
   "outputs": []
  },
  {
   "cell_type": "markdown",
   "id": "02fd39e5-a4c2-4157-8bc4-bf3cf3f6aa93",
   "metadata": {},
   "source": [
    "# Pull in GTFS data"
   ]
  },
  {
   "cell_type": "code",
   "execution_count": 134,
   "id": "ca8101cc-91e5-4403-bba7-5e0b2420e21c",
   "metadata": {},
   "source": [
    "df = pd.read_csv(\n",
    "    '../beb_chargers/data/processed/mar_24_trip_data_complete.csv',\n",
    "    dtype={'trip_id': str, 'route': str, 'vehicle_id': str},\n",
    "    parse_dates=['date']\n",
    ")\n",
    "df = df.dropna()\n",
    "df['start_time'] = pd.to_datetime(df['start_time'], utc=True).dt.tz_convert('US/Pacific')"
   ],
   "outputs": []
  },
  {
   "cell_type": "code",
   "execution_count": 135,
   "id": "bd33f586-7295-4516-9131-5ef1227e3e5f",
   "metadata": {},
   "source": [
    "trips_df = pd.read_csv(\n",
    "    '../beb_chargers/data/gtfs/metro_mar24/trips.txt',\n",
    "    dtype={'trip_id': str, 'shape_id': str}\n",
    ")\n",
    "shapes_df = pd.read_csv(\n",
    "    '../beb_chargers/data/gtfs/metro_mar24/shapes.txt',\n",
    "    dtype={'shape_id': str}\n",
    ")"
   ],
   "outputs": []
  },
  {
   "cell_type": "code",
   "execution_count": 136,
   "id": "710644a5-9d08-476a-b52c-9075320e5c10",
   "metadata": {},
   "source": [
    "shape_miles = shapes_df.groupby('shape_id')['shape_dist_traveled'].max().rename('miles_static') / 5280"
   ],
   "outputs": []
  },
  {
   "cell_type": "code",
   "execution_count": 137,
   "id": "9e5adf96-e846-455e-b0e5-6d1dfa57ceda",
   "metadata": {},
   "source": [
    "df = df.merge(\n",
    "    trips_df[['trip_id', 'shape_id']], on='trip_id'\n",
    ").merge(\n",
    "    shape_miles, left_on='shape_id', right_index=True\n",
    ")"
   ],
   "outputs": []
  },
  {
   "cell_type": "markdown",
   "id": "c84c374e-6193-41c7-b020-39d45a65a937",
   "metadata": {},
   "source": [
    "# Predicting kwh, not kwh/mi"
   ]
  },
  {
   "cell_type": "code",
   "execution_count": 209,
   "id": "17b41a36-b704-4f70-8556-f07c928ea0a8",
   "metadata": {},
   "source": [
    "df['duration_rt']"
   ],
   "outputs": []
  },
  {
   "cell_type": "code",
   "execution_count": 212,
   "id": "f1e5e82e-72ad-4aee-9c1d-2f77379b193e",
   "metadata": {},
   "source": [
    "df['duration_difference_pct']"
   ],
   "outputs": []
  },
  {
   "cell_type": "code",
   "execution_count": 234,
   "id": "f0f99e61-f7c1-4f5d-b361-5d1fcb184f73",
   "metadata": {},
   "source": [
    "df['60_dummy'] = df['vehicle_type'].map({'40-foot': 0, '60-foot': 1})\n",
    "df['gain_per_mi'] = df['elev_gain'] / df['miles']\n",
    "df['loss_per_mi'] = df['elev_loss'] / df['miles']\n",
    "df['heating_degrees'] = np.maximum(65 - df['temperature'], 0)\n",
    "df['heating_degree_hrs'] = df['heating_degrees'] * df['duration_rt'] / 3600\n",
    "df['mph'] = 3600 * df['miles_static'] / df['duration_rt']\n",
    "\n",
    "q1 = df['kwh_per_mi'].quantile(0.25)\n",
    "q3 = df['kwh_per_mi'].quantile(0.75)\n",
    "iqr = q3 - q1\n",
    "ol_min = q1 - 1.5*iqr\n",
    "ol_max = q3 + 1.5*iqr\n",
    "\n",
    "df_filt = df[\n",
    "    (df['kwh_per_mi'] > ol_min) & (df['kwh_per_mi'] < ol_max)\n",
    "].copy()\n",
    "\n",
    "df_filt['dayofweek'] = pd.to_datetime(df_filt['date']).dt.dayofweek\n",
    "df_filt['weekday'] = df_filt['dayofweek'] <= 4\n",
    "df_filt['start_hour'] = df_filt['start_time'].dt.hour\n",
    "df_filt['am_peak'] = (\n",
    "    (df_filt['weekday']) & (\n",
    "        df_filt['start_time'].dt.hour.between(6, 8)\n",
    "    )\n",
    ").astype(int)\n",
    "df_filt['pm_peak'] = (\n",
    "    (df_filt['weekday']) & (\n",
    "        df_filt['start_time'].dt.hour.between(16, 18)\n",
    "    )\n",
    ").astype(int)\n",
    "\n",
    "train = df_filt[df_filt['date'] < datetime.datetime(2024, 3, 30)].copy()\n",
    "test = df_filt[df_filt['date'] >= datetime.datetime(2024, 3, 30)].copy()\n",
    "y = train['kwh']\n",
    "X = train[['miles_static', 'heating_degree_hrs', 'gain_per_mi', 'loss_per_mi', 'duration_difference_pct', '60_dummy', 'am_peak', 'pm_peak']]\n",
    "X = sm.add_constant(X)\n",
    "mod = sm.OLS(y, X)\n",
    "results = mod.fit()\n",
    "print(results.summary())\n",
    "\n",
    "train['prediction'] = results.predict()\n",
    "train['error'] = train['prediction'] - y"
   ],
   "outputs": []
  },
  {
   "cell_type": "code",
   "execution_count": 233,
   "id": "b44d7645-0a1e-4cc0-bf51-1d13e5d1a7f2",
   "metadata": {},
   "source": [
    "100 * (train['error'].abs() / train['kwh']).describe()"
   ],
   "outputs": []
  },
  {
   "cell_type": "code",
   "execution_count": null,
   "id": "84c9c2be-c35a-4f15-b8fa-15d9b40f5ebd",
   "metadata": {},
   "source": [],
   "outputs": []
  },
  {
   "cell_type": "code",
   "execution_count": 227,
   "id": "01b32191-09a4-4a3d-9dab-6872f0cc7564",
   "metadata": {},
   "source": [
    "train[['kwh', 'prediction', 'error']]"
   ],
   "outputs": []
  },
  {
   "cell_type": "code",
   "execution_count": 215,
   "id": "3da653d4-ddc8-429d-b24a-3a70cbffea6e",
   "metadata": {},
   "source": [
    "(train['error'].abs() / train['prediction']).mean()"
   ],
   "outputs": []
  },
  {
   "cell_type": "code",
   "execution_count": 230,
   "id": "11e1e947-a597-455b-8884-b75a78fe80f9",
   "metadata": {},
   "source": [
    "train['abs_pct_error'] = 100 * train['error'].abs() / train['prediction']"
   ],
   "outputs": []
  },
  {
   "cell_type": "code",
   "execution_count": 231,
   "id": "4a447f1d-6d79-4c03-b0ae-cb7339add24b",
   "metadata": {},
   "source": [
    "train[['kwh', 'prediction', 'error', 'abs_pct_error']]"
   ],
   "outputs": []
  },
  {
   "cell_type": "code",
   "execution_count": 242,
   "id": "525952aa-4b22-4b13-a75c-61fd824aedf8",
   "metadata": {},
   "source": [
    "test_x = sm.add_constant(test[['miles_static', 'heating_degree_hrs', 'gain_per_mi', 'loss_per_mi', 'duration_difference_pct', '60_dummy', 'am_peak', 'pm_peak']])\n",
    "test['prediction'] = results.predict(test_x)"
   ],
   "outputs": []
  },
  {
   "cell_type": "code",
   "execution_count": 243,
   "id": "cf73885a-3712-4940-ae88-263db93aa316",
   "metadata": {},
   "source": [
    "ct = 0\n",
    "for ix, gp in test.groupby(['date', 'vehicle_id']):\n",
    "    ct += 1\n",
    "    error_bar_size = 1.96*train['error'].std()\n",
    "\n",
    "    fig = go.Figure(data=go.Scatter(\n",
    "        x=gp['start_time'],\n",
    "        y=gp['prediction'],\n",
    "        error_y=dict(\n",
    "            type='constant', # value of error bar given in data coordinates\n",
    "            value=error_bar_size,\n",
    "            visible=True),\n",
    "        name='Prediction',\n",
    "        mode='markers'\n",
    "    ))\n",
    "\n",
    "    fig.add_trace(\n",
    "        go.Scatter(\n",
    "            x=gp['start_time'],\n",
    "            y=gp['kwh'],\n",
    "            name='Observation',\n",
    "            mode='markers'\n",
    "        )\n",
    "    )\n",
    "    fig.update_layout(\n",
    "        title_text=f'Bus {ix[1]} on {ix[0]}',\n",
    "        yaxis_range=[test['kwh'].min() - error_bar_size, test['kwh'].max() + error_bar_size]\n",
    "    )\n",
    "        \n",
    "    fig.show()\n",
    "    if ct > 15:\n",
    "        break"
   ],
   "outputs": []
  },
  {
   "cell_type": "code",
   "execution_count": 245,
   "id": "8cc2c20d-e2fc-4668-9b59-d9266c0665d9",
   "metadata": {},
   "source": [
    "test['error'] = test['prediction'] - test['kwh']\n",
    "test['abs_pct_error'] = 100 * test['error'].abs() / test['prediction']"
   ],
   "outputs": []
  },
  {
   "cell_type": "code",
   "execution_count": 246,
   "id": "282b71cd-ea78-44a7-8ccb-c3a7a503aa15",
   "metadata": {},
   "source": [
    "test['abs_pct_error'].describe()"
   ],
   "outputs": []
  },
  {
   "cell_type": "code",
   "execution_count": 265,
   "id": "5c447a3d-8def-4802-b80b-d40726d84983",
   "metadata": {},
   "source": [
    "test['block_kwh'] = test.groupby(['date', 'vehicle_id'])['kwh'].cumsum()\n",
    "test['block_kwh_pred'] = test.groupby(['date', 'vehicle_id'])['prediction'].cumsum()\n",
    "test.sort_values(['date', 'vehicle_id', 'start_time'])[['date', 'vehicle_id', 'trip_id', 'start_time', 'block_kwh', 'block_kwh_pred']].head(20)"
   ],
   "outputs": []
  },
  {
   "cell_type": "code",
   "execution_count": 271,
   "id": "5ab628c9-0734-4648-b52c-dd7f6d4cc0b6",
   "metadata": {},
   "source": [
    "ct = 0\n",
    "for ix, gp in test.groupby(['date', 'vehicle_id']):\n",
    "    if len(gp) < 8:\n",
    "        continue\n",
    "    ct += 1\n",
    "    error_bar_size = 1.96*train['error'].std()\n",
    "\n",
    "    fig = go.Figure(data=go.Scatter(\n",
    "        x=gp['start_time'],\n",
    "        y=gp['block_kwh_pred'],\n",
    "        # error_y=dict(\n",
    "        #     type='constant', # value of error bar given in data coordinates\n",
    "        #     value=error_bar_size,\n",
    "        #     visible=True),\n",
    "        name='Prediction'\n",
    "        # mode='markers'\n",
    "    ))\n",
    "\n",
    "    fig.add_trace(\n",
    "        go.Scatter(\n",
    "            x=gp['start_time'],\n",
    "            y=gp['block_kwh'],\n",
    "            name='Observation',\n",
    "            # mode='markers'\n",
    "        )\n",
    "    )\n",
    "    fig.update_layout(\n",
    "        title_text=f'Bus {ix[1]} on {ix[0]}',\n",
    "        yaxis_range=[-10, max(gp['block_kwh'].max(), gp['block_kwh_pred'].max()) + error_bar_size]\n",
    "    )\n",
    "        \n",
    "    fig.show()\n",
    "    if ct > 15:\n",
    "        break"
   ],
   "outputs": []
  },
  {
   "cell_type": "code",
   "execution_count": 250,
   "id": "562e5f4b-f125-4298-9778-4db3d2581816",
   "metadata": {},
   "source": [
    "summary_by_bus = test.groupby(['date', 'vehicle_id'])[['kwh', 'prediction']].sum()\n",
    "summary_by_bus['abs_pct_error'] = 100*(summary_by_bus['prediction'] - summary_by_bus['kwh']).abs() / summary_by_bus['kwh']"
   ],
   "outputs": []
  },
  {
   "cell_type": "code",
   "execution_count": 253,
   "id": "36288bdd-b2b9-4303-8a1d-0ade37254a00",
   "metadata": {},
   "source": [
    "summary_by_bus[summary_by_bus['kwh'] >= 100]['abs_pct_error'].describe()"
   ],
   "outputs": []
  },
  {
   "cell_type": "markdown",
   "id": "5bd1fc09-769c-44d5-9397-1d7aaebc779a",
   "metadata": {},
   "source": [
    "## Hypothesized relationships\n",
    "Next step for model refinement: really think these through in detail, and maybe check the literature for how others have attempted similar modeling efforts.\n",
    "\n",
    "### Heating and cooling\n",
    "The kWh of heating and cooling will be dependent on the temperature differential between indoors and outdoors, the amount of time spent heating/cooling, and the air exchange between inside and outside. It doesn't have anything to do with distance, other than the fact that distance and time are correlated.\n",
    "\n",
    "### Elevation gain\n",
    "This is all about potential energy. We need to expend energy to lift the bus up, and we retrieve energy when rolling down. There should be a linear relationship between total elevation gain/loss and total energy, since $$E_{potential} = mgh$$. However, a potential issue here is the correlation between trip distance and total gain/loss.\n",
    "\n",
    "### Traffic conditions\n",
    "If there is more traffic, buses will stop and go more often, decreasing efficiency.\n",
    "\n",
    "### Vehicle size\n",
    "A heavier bus will require more energy to accelerate, as well as to heat and cool. I think the magnitude of impact of all our variables might vary depending on whether we have a 40- or 60-foot bus."
   ]
  },
  {
   "cell_type": "markdown",
   "id": "16483026-c12b-4af9-a1af-d468bc05a719",
   "metadata": {},
   "source": [
    "# Refined model only"
   ]
  },
  {
   "cell_type": "code",
   "execution_count": 138,
   "id": "9233344a-23b5-4e76-a00b-93b323d328c0",
   "metadata": {},
   "source": [
    "df['60_dummy'] = df['vehicle_type'].map({'40-foot': 0, '60-foot': 1})"
   ],
   "outputs": []
  },
  {
   "cell_type": "code",
   "execution_count": 139,
   "id": "a235aa69-6381-4024-a010-475d0447dda1",
   "metadata": {},
   "source": [
    "df['gain_per_mi'] = df['elev_gain'] / df['miles']\n",
    "df['loss_per_mi'] = df['elev_loss'] / df['miles']\n",
    "df['heating_degrees'] = np.maximum(65 - df['temperature'], 0)\n",
    "df['cooling_degrees'] = np.maximum(df['temperature'] - 65, 0)"
   ],
   "outputs": []
  },
  {
   "cell_type": "code",
   "execution_count": 140,
   "id": "04405cb5-e801-4721-91f5-ac526e930267",
   "metadata": {},
   "source": [
    "df['mph'] = 3600 * df['miles_static'] / df['duration_rt']"
   ],
   "outputs": []
  },
  {
   "cell_type": "code",
   "execution_count": 148,
   "id": "b9d6010a-fe26-4a58-93d7-ea129cb5c4f6",
   "metadata": {},
   "source": [
    "q1 = df['kwh_per_mi'].quantile(0.25)\n",
    "q3 = df['kwh_per_mi'].quantile(0.75)\n",
    "iqr = q3 - q1\n",
    "ol_min = q1 - 1.5*iqr\n",
    "ol_max = q3 + 1.5*iqr\n",
    "\n",
    "df_filt = df[\n",
    "    (df['kwh_per_mi'] > ol_min) & (df['kwh_per_mi'] < ol_max)\n",
    "].copy()\n",
    "\n",
    "df_filt['dayofweek'] = pd.to_datetime(df_filt['date']).dt.dayofweek\n",
    "df_filt['weekday'] = df_filt['dayofweek'] <= 4\n",
    "df_filt['start_hour'] = df_filt['start_time'].dt.hour\n",
    "df_filt['am_peak'] = (\n",
    "    (df_filt['weekday']) & (\n",
    "        df_filt['start_time'].dt.hour.between(6, 8)\n",
    "    )\n",
    ").astype(int)\n",
    "df_filt['pm_peak'] = (\n",
    "    (df_filt['weekday']) & (\n",
    "        df_filt['start_time'].dt.hour.between(16, 18)\n",
    "    )\n",
    ").astype(int)\n",
    "\n",
    "train = df_filt[df_filt['date'] < datetime.datetime(2024, 3, 30)].copy()\n",
    "test = df_filt[df_filt['date'] >= datetime.datetime(2024, 3, 30)].copy()\n",
    "y = train['kwh_per_mi']\n",
    "X = train[['heating_degrees', 'gain_per_mi', 'loss_per_mi', 'mph', '60_dummy', 'am_peak', 'pm_peak']]\n",
    "X = sm.add_constant(X)\n",
    "mod = sm.OLS(y, X)\n",
    "results = mod.fit()\n",
    "print(results.summary())\n",
    "\n",
    "train['prediction'] = results.predict()\n",
    "train['error'] = train['prediction'] - train['kwh_per_mi']"
   ],
   "outputs": []
  },
  {
   "cell_type": "code",
   "execution_count": 149,
   "id": "c67498ab-f9b9-4c41-8538-97a434483a3e",
   "metadata": {},
   "source": [
    "test_x = sm.add_constant(test[['heating_degrees', 'gain_per_mi', 'loss_per_mi', 'mph', '60_dummy', 'am_peak', 'pm_peak']])\n",
    "test['prediction'] = results.predict(test_x)"
   ],
   "outputs": []
  },
  {
   "cell_type": "code",
   "execution_count": 171,
   "id": "85af63f9-c369-437f-8535-5866ef55351f",
   "metadata": {},
   "source": [
    "ct = 0\n",
    "for ix, gp in test.groupby(['date', 'vehicle_id']):\n",
    "    ct += 1\n",
    "\n",
    "    fig = go.Figure(data=go.Scatter(\n",
    "        x=gp['start_time'],\n",
    "        y=gp['prediction'],\n",
    "        error_y=dict(\n",
    "            type='constant', # value of error bar given in data coordinates\n",
    "            value=2*train['error'].std(),\n",
    "            visible=True),\n",
    "        name='Prediction',\n",
    "        mode='markers'\n",
    "    ))\n",
    "\n",
    "    fig.add_trace(\n",
    "        go.Scatter(\n",
    "            x=gp['start_time'],\n",
    "            y=gp['kwh_per_mi'],\n",
    "            name='Observation',\n",
    "            mode='markers'\n",
    "        )\n",
    "    )\n",
    "    fig.update_layout(\n",
    "        title_text=f'Bus {ix[1]} on {ix[0]}',\n",
    "        yaxis_range=[test['kwh_per_mi'].min(), test['kwh_per_mi'].max()]\n",
    "    )\n",
    "    fig.write_image(f'images/predictions_{ct}.pdf')"
   ],
   "outputs": []
  },
  {
   "cell_type": "code",
   "execution_count": 157,
   "id": "a42a8b58-a279-4d32-9842-2c9f05bdafd5",
   "metadata": {},
   "source": [
    "test['kwh'] = test['kwh_per_mi'] * test['miles_static']"
   ],
   "outputs": []
  },
  {
   "cell_type": "code",
   "execution_count": 158,
   "id": "7ddde5d4-bf66-4743-9ac9-1c579eee5726",
   "metadata": {},
   "source": [
    "test['kwh_predicted'] = test['prediction'] * test['miles_static']"
   ],
   "outputs": []
  },
  {
   "cell_type": "code",
   "execution_count": 193,
   "id": "a9575b54-c53f-431a-be7d-b98d08b7e39b",
   "metadata": {},
   "source": [
    "test['kwh_var'] = test['miles_static'] * train['error'].var()"
   ],
   "outputs": []
  },
  {
   "cell_type": "code",
   "execution_count": 200,
   "id": "78cccfcd-db44-4bbd-b605-743c9faf9b08",
   "metadata": {},
   "source": [
    "train['error'].std()"
   ],
   "outputs": []
  },
  {
   "cell_type": "code",
   "execution_count": 187,
   "id": "f19318ea-aeac-4309-bd7d-5ea44abf8d54",
   "metadata": {},
   "source": [
    "test['kwh_lower_cl'] = test['miles_static'] * (test['prediction'] - 1.96*train['error'].std())\n",
    "test['kwh_upper_cl'] = test['miles_static'] * (test['prediction'] + 1.96*train['error'].std())"
   ],
   "outputs": []
  },
  {
   "cell_type": "code",
   "execution_count": 204,
   "id": "b846fd1e-9cc7-461b-8e06-b1c87b3664d1",
   "metadata": {},
   "source": [
    "test[['vehicle_id', 'trip_id', 'kwh', 'kwh_predicted', 'kwh_std', 'kwh_var', 'kwh_lower_cl', 'kwh_upper_cl']]"
   ],
   "outputs": []
  },
  {
   "cell_type": "code",
   "execution_count": 190,
   "id": "e8df828b-6543-4b4a-9763-2fa22a5e5098",
   "metadata": {},
   "source": [
    "bus_totals = test.groupby(['date', 'vehicle_id'])[['kwh', 'kwh_predicted']].sum()"
   ],
   "outputs": []
  },
  {
   "cell_type": "code",
   "execution_count": 196,
   "id": "8d21a3d3-1851-4d13-8002-6b5d96779d76",
   "metadata": {},
   "source": [
    "bus_totals['kwh_std'] = np.sqrt(test.groupby(['date', 'vehicle_id'])['kwh_var'].sum())"
   ],
   "outputs": []
  },
  {
   "cell_type": "code",
   "execution_count": 197,
   "id": "9305dc3c-66f7-4430-997e-458eeeb2d980",
   "metadata": {},
   "source": [
    "bus_totals"
   ],
   "outputs": []
  },
  {
   "cell_type": "code",
   "execution_count": null,
   "id": "c52bf537-cbb5-4e42-b020-79b810b59652",
   "metadata": {},
   "source": [
    "\n",
    "bus_totals['n_trips'] = test.groupby(['date', 'vehicle_id'])['trip_id'].count()\n",
    "bus_totals = bus_totals.reset_index()"
   ],
   "outputs": []
  },
  {
   "cell_type": "code",
   "execution_count": 174,
   "id": "c616db8a-73be-44e0-b1d0-1f1cae8ea1da",
   "metadata": {},
   "source": [
    "\n",
    "px.scatter(\n",
    "    bus_totals,\n",
    "    x='kwh_predicted',\n",
    "    y='kwh',\n",
    "    color='vehicle_id'\n",
    ")"
   ],
   "outputs": []
  },
  {
   "cell_type": "code",
   "execution_count": 177,
   "id": "b33e5b2e-ec6f-4110-90d2-dce78fc08101",
   "metadata": {},
   "source": [
    "bus_totals['std'] = np.sqrt(bus_totals['n_trips'] * train['error'].std())"
   ],
   "outputs": []
  },
  {
   "cell_type": "code",
   "execution_count": 167,
   "id": "1a4bb935-ec09-4fb4-8bd4-dd7d4b069a06",
   "metadata": {},
   "source": [
    "bus_totals['pct_error'] = 100 * (bus_totals['kwh_predicted'] - bus_totals['kwh']) / bus_totals['kwh']"
   ],
   "outputs": []
  },
  {
   "cell_type": "code",
   "execution_count": 178,
   "id": "acdd2fce-20a5-40bc-8983-59710642e8d4",
   "metadata": {},
   "source": [
    "bus_totals"
   ],
   "outputs": []
  },
  {
   "cell_type": "code",
   "execution_count": 170,
   "id": "602929a0-cca2-44ef-a3d4-086970a9b990",
   "metadata": {},
   "source": [
    "px.scatter(\n",
    "    bus_totals,\n",
    "    x='kwh',\n",
    "    y='pct_error',\n",
    "    color='date'\n",
    ")"
   ],
   "outputs": []
  },
  {
   "cell_type": "code",
   "execution_count": null,
   "id": "581d65de-0b4a-456f-af35-3dfee840259f",
   "metadata": {},
   "source": [
    "bus_totals "
   ],
   "outputs": []
  },
  {
   "cell_type": "markdown",
   "id": "9e9d8612-2ff7-434e-828d-db26f2244119",
   "metadata": {},
   "source": [
    "## Try to plot prediction accuracy"
   ]
  },
  {
   "cell_type": "code",
   "execution_count": 154,
   "id": "5de8cec8-da07-4e7b-83cf-9b08b78a1c20",
   "metadata": {},
   "source": [
    "ct = 0\n",
    "for ix, gp in df_filt.groupby(['date', 'vehicle_id']):\n",
    "    ct += 1\n",
    "\n",
    "    fig = go.Figure(data=go.Scatter(\n",
    "        x=gp['start_time'],\n",
    "        y=gp['prediction'],\n",
    "        error_y=dict(\n",
    "            type='constant', # value of error bar given in data coordinates\n",
    "            value=1.96*df_filt['error'].std(),\n",
    "            visible=True),\n",
    "        name='Prediction',\n",
    "        mode='markers'\n",
    "    ))\n",
    "\n",
    "    fig.add_trace(\n",
    "        go.Scatter(\n",
    "            x=gp['start_time'],\n",
    "            y=gp['kwh_per_mi'],\n",
    "            name='Observation',\n",
    "            mode='markers'\n",
    "        )\n",
    "    )\n",
    "    fig.update_layout(\n",
    "        title_text=f'Bus {ix[1]} on {ix[0]}',\n",
    "        yaxis_range=[test['kwh_per_mi'].min(), df_filt['kwh_per_mi'].max()]\n",
    "    )\n",
    "        \n",
    "    fig.show()\n",
    "    if ct > 15:\n",
    "        break"
   ],
   "outputs": []
  },
  {
   "cell_type": "code",
   "execution_count": 49,
   "id": "48282b8a-840b-4feb-b4d2-31244daab8c6",
   "metadata": {},
   "source": [
    "df_filt.groupby(['date', 'vehicle_id'])['error'].sum().hist()"
   ],
   "outputs": []
  },
  {
   "cell_type": "code",
   "execution_count": 60,
   "id": "833c3fe5-b16b-426b-b173-10e0d90ca40f",
   "metadata": {},
   "source": [
    "px.scatter(\n",
    "    df,\n",
    "    x='temperature',\n",
    "    y='kwh_per_mi',\n",
    "    color='vehicle_type'\n",
    ")"
   ],
   "outputs": []
  },
  {
   "cell_type": "code",
   "execution_count": 62,
   "id": "f83fa976-f5da-4a99-ba1b-41870e43ccac",
   "metadata": {},
   "source": [
    "go.Figure(\n",
    "    go.Heatmap(\n",
    "        x=df['temperature'],\n",
    "        y=df['pct_grade'],\n",
    "        z=df['kwh_per_mi'],\n",
    "        # color='vehicle_type'\n",
    "    )\n",
    ").show()"
   ],
   "outputs": []
  },
  {
   "cell_type": "code",
   "execution_count": 44,
   "id": "65abdc46-85ee-46af-a6d5-6bf98cccc089",
   "metadata": {},
   "source": [
    "df_filt[\n",
    "    (df_filt['vehicle_id'] == 4705)\n",
    "    & (df_filt['date'] == '2024-03-02')\n",
    "]"
   ],
   "outputs": []
  },
  {
   "cell_type": "code",
   "execution_count": 76,
   "id": "6259288a-26d9-48cb-bfb8-b34dbb6b5bc4",
   "metadata": {},
   "source": [
    "import matplotlib.pyplot as plt"
   ],
   "outputs": []
  },
  {
   "cell_type": "code",
   "execution_count": 78,
   "id": "b040c761-a6af-48e6-80c6-4667d1e55255",
   "metadata": {},
   "source": [
    "df_filt['error'].hist(bins=30)\n",
    "plt.xlabel('Error')\n",
    "plt.ylabel('Count')\n",
    "plt.title('Residuals')"
   ],
   "outputs": []
  },
  {
   "cell_type": "code",
   "execution_count": 82,
   "id": "d6e699bb-e0d6-47eb-a954-eb34f59c60fd",
   "metadata": {},
   "source": [
    "df_filt.groupby(['route', 'direction_id'])['error'].median().sort_values()"
   ],
   "outputs": []
  },
  {
   "cell_type": "markdown",
   "id": "64b65f40-b069-46c0-bfc2-a56dc38962a5",
   "metadata": {},
   "source": [
    "# Archive of modeling attempts"
   ]
  },
  {
   "cell_type": "code",
   "execution_count": 4,
   "id": "4e4c162a-396d-49b3-b582-a72de5845fda",
   "metadata": {},
   "source": [
    "y = df['kwh_per_mi']\n",
    "X = df[['pct_grade', '60_dummy']]\n",
    "X = sm.add_constant(X)\n",
    "mod = sm.OLS(y, X)\n",
    "results = mod.fit()"
   ],
   "outputs": []
  },
  {
   "cell_type": "code",
   "execution_count": 5,
   "id": "9ee85931-8bd9-4325-befd-bccfb15200ed",
   "metadata": {},
   "source": [
    "print(results.summary())"
   ],
   "outputs": []
  },
  {
   "cell_type": "code",
   "execution_count": 6,
   "id": "20d74b4d-a58e-4398-ad9a-f14295f72b88",
   "metadata": {},
   "source": [
    "df['prediction'] = results.predict()"
   ],
   "outputs": []
  },
  {
   "cell_type": "code",
   "execution_count": 7,
   "id": "ad17ce27-d7cf-4e77-8459-34de20ed69ab",
   "metadata": {},
   "source": [
    "fig = px.scatter(df, 'pct_grade', 'prediction', color='vehicle_type')\n",
    "fig.add_trace(\n",
    "    go.Scatter(\n",
    "        x=df['pct_grade'], y=df['kwh_per_mi'], fillcolor='gray', mode='markers', marker_color='gray', name='Observed data'\n",
    "    )\n",
    ")\n",
    "fig.update_layout(\n",
    "    title='Energy Consumption Versus Elevation: Predictions',\n",
    "    xaxis_title='Trip Slope (% grade)',\n",
    "    yaxis_title='Energy Consumption (kWh/mile)',\n",
    "    legend_title=None\n",
    ")\n",
    "# fig.write_image('predictions.pdf')\n",
    "fig.show()"
   ],
   "outputs": []
  },
  {
   "cell_type": "code",
   "execution_count": 8,
   "id": "98624e41-5769-4b47-8e0b-0c2f05b0b3d8",
   "metadata": {},
   "source": [
    "df['dayofweek'] = pd.to_datetime(df.date).dt.dayofweek"
   ],
   "outputs": []
  },
  {
   "cell_type": "code",
   "execution_count": 9,
   "id": "e8e98e18-cfff-4956-945c-04e44e521140",
   "metadata": {},
   "source": [
    "df['tuesday'] = df['dayofweek'] == 1\n",
    "df['wednesday'] = df['dayofweek'] == 2\n",
    "df['thursday'] = df['dayofweek'] == 3\n",
    "df['friday'] = df['dayofweek'] == 4\n",
    "df['saturday'] = df['dayofweek'] == 5\n",
    "df['sunday'] = df['dayofweek'] == 6\n",
    "df[['tuesday', 'wednesday', 'thursday', 'friday', 'saturday', 'sunday']] = \\\n",
    "    df[['tuesday', 'wednesday', 'thursday', 'friday', 'saturday', 'sunday']].astype(int)"
   ],
   "outputs": []
  },
  {
   "cell_type": "code",
   "execution_count": 10,
   "id": "7389744d-179e-4a10-b996-8bd1b38c1ffe",
   "metadata": {},
   "source": [
    "df['mph'] = 3600 * df['miles'] / df['duration_rt']\n",
    "y = df['kwh_per_mi']\n",
    "X = df[['pct_grade', '60_dummy', 'mph', 'tuesday', 'wednesday', 'thursday', 'friday', 'saturday', 'sunday']]\n",
    "X = sm.add_constant(X)\n",
    "mod = sm.OLS(y, X)\n",
    "results = mod.fit()"
   ],
   "outputs": []
  },
  {
   "cell_type": "code",
   "execution_count": 11,
   "id": "615932cb-6ad0-41bb-8bd0-8c33d42a6740",
   "metadata": {},
   "source": [
    "print(results.summary())"
   ],
   "outputs": []
  },
  {
   "cell_type": "code",
   "execution_count": 12,
   "id": "d07d7b48-472c-4eab-a875-60258fabbcf3",
   "metadata": {},
   "source": [
    "df['weekend'] = df['dayofweek'].isin([5, 6]).astype(int)\n",
    "y = df['kwh_per_mi']\n",
    "X = df[['pct_grade', '60_dummy', 'mph', 'weekend']]\n",
    "X = sm.add_constant(X)\n",
    "mod = sm.OLS(y, X)\n",
    "results = mod.fit()"
   ],
   "outputs": []
  },
  {
   "cell_type": "code",
   "execution_count": 13,
   "id": "5c035ea2-5996-47cd-9e21-cb5be33d002d",
   "metadata": {},
   "source": [
    "print(results.summary())"
   ],
   "outputs": []
  },
  {
   "cell_type": "markdown",
   "id": "1c3a342e-2505-4e31-9a61-c6e98f43f6d0",
   "metadata": {},
   "source": [
    "# What if we model gain and loss per mile separately?"
   ]
  },
  {
   "cell_type": "code",
   "execution_count": 14,
   "id": "c66db451-f569-4296-9320-fc5f8b2ff8ac",
   "metadata": {},
   "source": [
    "df['gain_per_mi'] = df['elev_gain'] / df['miles']\n",
    "df['loss_per_mi'] = df['elev_loss'] / df['miles']"
   ],
   "outputs": []
  },
  {
   "cell_type": "code",
   "execution_count": 15,
   "id": "a066371b-74a5-440d-b617-04c8c393cbcc",
   "metadata": {},
   "source": [
    "y = df['kwh_per_mi']\n",
    "X = df[['gain_per_mi', 'loss_per_mi', '60_dummy', 'mph', 'weekend']]\n",
    "X = sm.add_constant(X)\n",
    "mod = sm.OLS(y, X)\n",
    "results = mod.fit()"
   ],
   "outputs": []
  },
  {
   "cell_type": "code",
   "execution_count": 16,
   "id": "1908b4ec-0693-49e3-9513-5cfbe1c66e93",
   "metadata": {},
   "source": [
    "print(results.summary())"
   ],
   "outputs": []
  },
  {
   "cell_type": "code",
   "execution_count": 17,
   "id": "97f70cc6-5c5a-445d-a820-1a46bdd75b10",
   "metadata": {},
   "source": [
    "df['prediction'] = results.predict()\n",
    "df['error'] = df['prediction'] - df['kwh_per_mi']"
   ],
   "outputs": []
  },
  {
   "cell_type": "code",
   "execution_count": 18,
   "id": "763313e8-b0fd-4473-8faf-c3f08a069364",
   "metadata": {},
   "source": [
    "df['error'].hist()"
   ],
   "outputs": []
  },
  {
   "cell_type": "code",
   "execution_count": 19,
   "id": "88d48099-39ad-40ca-9174-73d95f2d8557",
   "metadata": {},
   "source": [
    "error_summary = df[['vehicle_id', 'vehicle_type', 'date', 'start_time', 'trip_id', 'route', 'mph', 'kwh_per_mi', 'prediction', 'error']]"
   ],
   "outputs": []
  },
  {
   "cell_type": "code",
   "execution_count": 20,
   "id": "c16c6c69-f804-4dd2-b1be-173bd4986cf6",
   "metadata": {},
   "source": [
    "error_summary[error_summary['error'] > 0.7].sort_values('date').head(20)"
   ],
   "outputs": []
  },
  {
   "cell_type": "code",
   "execution_count": 21,
   "id": "2f95d25b-4ba8-4274-9f87-a47a3938e622",
   "metadata": {},
   "source": [
    "error_summary.groupby('vehicle_type')['error'].hist(legend=True)"
   ],
   "outputs": []
  },
  {
   "cell_type": "code",
   "execution_count": 23,
   "id": "6adc1a48-5553-4723-b713-73e98884b6c4",
   "metadata": {},
   "source": [
    "import numpy as np"
   ],
   "outputs": []
  },
  {
   "cell_type": "code",
   "execution_count": 24,
   "id": "7228465f-3488-4e05-ae60-9ad2e55b44d5",
   "metadata": {},
   "source": [
    "df['heating_degrees'] = np.maximum(65 - df['temperature'], 0)\n",
    "df['cooling_degrees'] = np.maximum(df['temperature'] - 65, 0)"
   ],
   "outputs": []
  },
  {
   "cell_type": "code",
   "execution_count": 25,
   "id": "eefc78c4-c611-4758-982f-f977a3a060af",
   "metadata": {},
   "source": [
    "# Throw out trips with less than 10 mph\n",
    "df = df[df['mph'] > 10].copy()"
   ],
   "outputs": []
  },
  {
   "cell_type": "code",
   "execution_count": 26,
   "id": "39fecf84-046d-48e5-9d31-e00844210b7d",
   "metadata": {},
   "source": [
    "y = df['kwh_per_mi']\n",
    "X = df[['heating_degrees', 'gain_per_mi', 'loss_per_mi', 'mph', '60_dummy', 'weekend']]\n",
    "X = sm.add_constant(X)\n",
    "mod = sm.OLS(y, X)\n",
    "results = mod.fit()"
   ],
   "outputs": []
  },
  {
   "cell_type": "code",
   "execution_count": 27,
   "id": "51d9e7fe-3fb0-4949-82b8-c219c812f6cc",
   "metadata": {},
   "source": [
    "print(results.summary())"
   ],
   "outputs": []
  },
  {
   "cell_type": "code",
   "execution_count": 28,
   "id": "856dade4-057e-445a-9bde-dbccac1daa38",
   "metadata": {},
   "source": [
    "df['prediction'] = results.predict()\n",
    "df['error'] = df['prediction'] - df['kwh_per_mi']"
   ],
   "outputs": []
  },
  {
   "cell_type": "code",
   "execution_count": 29,
   "id": "f14739a6-5bbd-4af7-b06b-66b04a42ed7b",
   "metadata": {},
   "source": [
    "df['error'].max()"
   ],
   "outputs": []
  },
  {
   "cell_type": "code",
   "execution_count": 30,
   "id": "b3c02945-380b-4195-a9c1-f232700d675a",
   "metadata": {},
   "source": [
    "df[df['error'] == df['error'].max()][['heating_degrees', 'gain_per_mi', 'loss_per_mi', 'miles', '60_dummy', 'mph', 'weekend', 'kwh_per_mi', 'prediction']]"
   ],
   "outputs": []
  },
  {
   "cell_type": "code",
   "execution_count": 31,
   "id": "ff17c894-111a-46cf-8b5d-69b6a9016fad",
   "metadata": {},
   "source": [
    "import matplotlib.pyplot as plt"
   ],
   "outputs": []
  },
  {
   "cell_type": "code",
   "execution_count": 32,
   "id": "08f2e639-27e2-49a9-9115-0fd876a488db",
   "metadata": {},
   "source": [
    "(100 * df['error'] / df['kwh_per_mi']).hist(bins=30)\n",
    "plt.xlabel('Percent Error')\n",
    "plt.ylabel('Count')\n",
    "plt.title('Distribution of Model Errors')\n",
    "plt.show()"
   ],
   "outputs": []
  },
  {
   "cell_type": "code",
   "execution_count": 33,
   "id": "f846a735-67de-450d-970d-2cac6a04e7dc",
   "metadata": {},
   "source": [
    "df['error'].std()"
   ],
   "outputs": []
  },
  {
   "cell_type": "code",
   "execution_count": 34,
   "id": "07f88758-b2af-4aa0-9ade-b789c4e0dcf0",
   "metadata": {},
   "source": [
    "df_40 = df[df['vehicle_type'] == '40-foot'].copy()\n",
    "fig = px.scatter(df_40, 'heating_degrees', 'kwh_per_mi', color='route')\n",
    "fig.update_layout(\n",
    "    title='Energy Consumption Versus Temperature: 40-Foot Buses',\n",
    "    xaxis_title='Temperature (degrees F)',\n",
    "    yaxis_title='Energy Consumption (kWh/mile)'\n",
    ")\n",
    "# fig.write_image('elevation_impact_40ft.pdf')\n",
    "fig.show()"
   ],
   "outputs": []
  },
  {
   "cell_type": "code",
   "execution_count": 35,
   "id": "cda5f3d2-9e83-4745-846b-e1d37315df34",
   "metadata": {},
   "source": [
    "df_40.groupby('temperature')['kwh_per_mi'].mean().sort_index().plot()"
   ],
   "outputs": []
  },
  {
   "cell_type": "markdown",
   "id": "1d6bc438-4acf-4508-a2f4-2abdcbf8aac6",
   "metadata": {},
   "source": [
    "## Trying one more possible improvement: peak/off-peak periods"
   ]
  },
  {
   "cell_type": "code",
   "execution_count": 39,
   "id": "ca01a8c9-9038-4b41-861d-d830aed265ec",
   "metadata": {},
   "source": [
    "df['start_time'] = pd.to_datetime(df['start_time'], utc=True).dt.tz_convert('US/Pacific')\n",
    "df['dayofweek'] = pd.to_datetime(df['date']).dt.dayofweek\n",
    "df['weekday'] = df['dayofweek'] <= 4\n",
    "df['start_hour'] = df['start_time'].dt.hour\n",
    "df['am_peak'] = (\n",
    "    (df['weekday']) & (\n",
    "        df['start_time'].dt.hour.between(5, 8)\n",
    "    )\n",
    ").astype(int)\n",
    "df['pm_peak'] = (\n",
    "    (df['weekday']) & (\n",
    "        df['start_time'].dt.hour.between(16, 20)\n",
    "    )\n",
    ").astype(int)"
   ],
   "outputs": []
  },
  {
   "cell_type": "code",
   "execution_count": 40,
   "id": "365df5e7-a93a-4552-9949-b6cac566499e",
   "metadata": {},
   "source": [
    "y = df['kwh_per_mi']\n",
    "X = df[['heating_degrees', 'gain_per_mi', 'loss_per_mi', 'mph', '60_dummy', 'pm_peak']]\n",
    "X = sm.add_constant(X)\n",
    "mod = sm.OLS(y, X)\n",
    "results = mod.fit()"
   ],
   "outputs": []
  },
  {
   "cell_type": "code",
   "execution_count": 41,
   "id": "b952148e-7df7-4d23-8ec6-9aa75b4e2440",
   "metadata": {},
   "source": [
    "print(results.summary())"
   ],
   "outputs": []
  },
  {
   "cell_type": "code",
   "execution_count": 42,
   "id": "f19f2077-5fa0-4b2c-8011-b5a73316f224",
   "metadata": {},
   "source": [
    "df['prediction'] = results.predict()\n",
    "df['error'] = df['prediction'] - df['kwh_per_mi']"
   ],
   "outputs": []
  },
  {
   "cell_type": "code",
   "execution_count": 43,
   "id": "7cd17de7-d97f-4c71-a465-6c8f7e60b7d4",
   "metadata": {},
   "source": [
    "(100 * df['error'] / df['kwh_per_mi']).hist(bins=30)\n",
    "plt.xlabel('Percent Error')\n",
    "plt.ylabel('Count')\n",
    "plt.title('Distribution of Model Errors')\n",
    "plt.show()"
   ],
   "outputs": []
  },
  {
   "cell_type": "code",
   "execution_count": 44,
   "id": "412a88d4-0865-4d44-ad1f-8f0aa7099329",
   "metadata": {},
   "source": [
    "df['pct_error'] = 100 * df['error'] / df['kwh_per_mi']\n",
    "df['pct_error'].max()"
   ],
   "outputs": []
  },
  {
   "cell_type": "code",
   "execution_count": 45,
   "id": "499ffb87-d1cd-4322-81dc-f93fb03c7c8f",
   "metadata": {},
   "source": [
    "df[df['pct_error'] == df['pct_error'].max()][\n",
    "    ['kwh_per_mi', 'prediction', 'error', 'pct_error']\n",
    "]"
   ],
   "outputs": []
  },
  {
   "cell_type": "markdown",
   "id": "d5d224c5-46e2-46ae-9616-d3ed188dbb1b",
   "metadata": {},
   "source": [
    "## Try removing outliers and fitting again"
   ]
  },
  {
   "cell_type": "code",
   "execution_count": null,
   "id": "a078b733-ff81-4fee-81a9-a0977be9af77",
   "metadata": {},
   "source": [],
   "outputs": []
  },
  {
   "cell_type": "code",
   "execution_count": 46,
   "id": "dff1ae58-0ce0-48b0-b833-1a4955711812",
   "metadata": {},
   "source": [
    "q1 = df['kwh_per_mi'].quantile(0.25)\n",
    "q3 = df['kwh_per_mi'].quantile(0.75)\n",
    "iqr = q3 - q1\n",
    "ol_min = q1 - 1.5*iqr\n",
    "ol_max = q3 + 1.5*iqr"
   ],
   "outputs": []
  },
  {
   "cell_type": "code",
   "execution_count": 47,
   "id": "e0b5165f-ff57-4967-b0b1-2f78491d4569",
   "metadata": {},
   "source": [
    "df_filt = df[\n",
    "    (df['kwh_per_mi'] > ol_min) & (df['kwh_per_mi'] < ol_max)\n",
    "].copy()"
   ],
   "outputs": []
  },
  {
   "cell_type": "code",
   "execution_count": 48,
   "id": "cd958278-18d0-4d4a-a7dd-cb9cec72b993",
   "metadata": {},
   "source": [
    "len(df), len(df_filt)"
   ],
   "outputs": []
  },
  {
   "cell_type": "code",
   "execution_count": 49,
   "id": "5d55eef3-1c2e-4e87-9039-93fb969c8d87",
   "metadata": {},
   "source": [
    "df_filt['start_time'] = pd.to_datetime(df_filt['start_time'])\n",
    "df_filt['dayofweek'] = pd.to_datetime(df_filt['date']).dt.dayofweek\n",
    "df_filt['weekday'] = df_filt['dayofweek'] <= 4\n",
    "df_filt['start_hour'] = df_filt['start_time'].dt.hour\n",
    "df_filt['am_peak'] = (\n",
    "    (df_filt['weekday']) & (\n",
    "        df_filt['start_time'].dt.hour.between(5, 8)\n",
    "    )\n",
    ").astype(int)\n",
    "df_filt['pm_peak'] = (\n",
    "    (df_filt['weekday']) & (\n",
    "        df_filt['start_time'].dt.hour.between(16, 20)\n",
    "    )\n",
    ").astype(int)"
   ],
   "outputs": []
  },
  {
   "cell_type": "code",
   "execution_count": 56,
   "id": "c43ca4b9-f55d-44c6-a264-149c4c3affe4",
   "metadata": {},
   "source": [
    "y = df_filt['kwh_per_mi']\n",
    "X = df_filt[['heating_degrees', 'gain_per_mi', 'loss_per_mi', 'mph', '60_dummy', 'am_peak', 'pm_peak']]\n",
    "X = sm.add_constant(X)\n",
    "mod = sm.OLS(y, X)\n",
    "results = mod.fit()\n",
    "print(results.summary())"
   ],
   "outputs": []
  },
  {
   "cell_type": "code",
   "execution_count": 57,
   "id": "c3fe7ee8-97ed-4a77-af26-ecf1fe32a2e6",
   "metadata": {},
   "source": [
    "df_filt['prediction'] = results.predict()\n",
    "df_filt['error'] = df_filt['prediction'] - df_filt['kwh_per_mi']"
   ],
   "outputs": []
  },
  {
   "cell_type": "code",
   "execution_count": 58,
   "id": "f9ea814b-7a4d-451d-aada-782b4a093fc8",
   "metadata": {},
   "source": [
    "df_filt['error'].hist()"
   ],
   "outputs": []
  },
  {
   "cell_type": "code",
   "execution_count": 59,
   "id": "ea596508-b0ad-43f7-b298-3014a1ecf5e2",
   "metadata": {},
   "source": [
    "df_filt['error'].describe()"
   ],
   "outputs": []
  },
  {
   "cell_type": "code",
   "execution_count": null,
   "id": "2241198a-ef07-4574-a49c-c49bfdd9c945",
   "metadata": {},
   "source": [],
   "outputs": []
  }
 ],
 "metadata": {
  "kernelspec": {
   "display_name": "Python 3 (ipykernel)",
   "language": "python",
   "name": "python3"
  },
  "language_info": {
   "codemirror_mode": {
    "name": "ipython",
    "version": 3
   },
   "file_extension": ".py",
   "mimetype": "text/x-python",
   "name": "python",
   "nbconvert_exporter": "python",
   "pygments_lexer": "ipython3",
   "version": "3.12.3"
  }
 },
 "nbformat": 4,
 "nbformat_minor": 5
}
