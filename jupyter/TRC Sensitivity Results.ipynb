{
 "cells": [
  {
   "cell_type": "code",
   "execution_count": 1,
   "metadata": {},
   "source": [
    "import pandas as pd\n",
    "import matplotlib.pyplot as plt\n",
    "import numpy as np\n",
    "from matplotlib.ticker import MaxNLocator\n",
    "import os"
   ],
   "outputs": []
  },
  {
   "cell_type": "code",
   "execution_count": 2,
   "metadata": {},
   "source": [
    "plt.rcParams.update({\n",
    "    \"text.usetex\": False,\n",
    "    \"font.family\": \"Times\",\n",
    "    \"font.serif\": \"Times\",\n",
    "    \"font.sans-serif\": [\"Times\"],\n",
    "    'font.size': 16})"
   ],
   "outputs": []
  },
  {
   "cell_type": "code",
   "execution_count": 3,
   "metadata": {},
   "source": [
    "def plot_stacked_costs(df, x, x_label, alpha, gamma, legend_loc='center'):\n",
    "    time_cost = alpha * df['recov_time_lost']\n",
    "    bu_cost = gamma * df['n_backups']\n",
    "    fig, ax = plt.subplots(figsize=(9,6))\n",
    "    ax.stackplot(df[x], df['capital_cost'], time_cost, bu_cost,\n",
    "                 labels=('Capital cost', 'Charging cost', 'Backup bus cost'),\n",
    "                 colors=('r', 'b', 'g'))\n",
    "    ax.set_xlabel(x_label)\n",
    "    ax.set_ylabel('Cost')\n",
    "    ax.legend(loc=legend_loc)\n",
    "    fig.tight_layout()    \n",
    "    \n",
    "    return fig"
   ],
   "outputs": []
  },
  {
   "cell_type": "code",
   "execution_count": 4,
   "metadata": {},
   "source": [
    "def plot_one_column(df, x, x_label, y, y_label, marker='o', int_ticks=True):\n",
    "    fig, ax = plt.subplots(figsize=(9, 6))\n",
    "    ax.plot(df[x], df[y], label=y_label, color='r', linestyle='solid', marker=marker)\n",
    "    ax.set_ylabel(y_label)\n",
    "    ax.set_xlabel(x_label)\n",
    "    ax.yaxis.set_major_locator(MaxNLocator(integer=True))\n",
    "    fig.tight_layout()\n",
    "    return fig"
   ],
   "outputs": []
  },
  {
   "cell_type": "code",
   "execution_count": 5,
   "metadata": {},
   "source": [
    "def plot_two_columns(df, x, x_label, y1, y1_label, y2, y2_label,\n",
    "                     save_name, legend_loc='center', yscale='diff'):\n",
    "    if yscale == 'diff':\n",
    "        fig, ax1 = plt.subplots(figsize=(9,6))\n",
    "        ax1.set_xlabel(x_label)\n",
    "        ax1.set_ylabel(y1_label)\n",
    "        ax1.plot(df[x], df[y1], label=y1_label, color='r', linestyle='solid')\n",
    "\n",
    "        ax2 = ax1.twinx()\n",
    "        ax2.set_ylabel(y2_label)\n",
    "        ax2.plot(df[x], df[y2], label=y2_label, color='b', linestyle='dashed')\n",
    "        fig.legend(loc=legend_loc)\n",
    "        fig.tight_layout()\n",
    "        fig.savefig(save_name, dpi=600)\n",
    "        return fig\n",
    "        \n",
    "    elif yscale == 'same':\n",
    "        plt.plot(df[x], df[y1], label=y1_label, color='r', linestyle='solid')\n",
    "        plt.plot(df[x], df[y2], label=y2_label, color='b', linestyle='dashed')\n",
    "        plt.ylabel('Time (min)')\n",
    "        plt.xlabel(x_label)\n",
    "        plt.legend(loc=legend_loc)\n",
    "        plt.tight_layout()\n",
    "        plt.savefig(save_name, dpi=600)"
   ],
   "outputs": []
  },
  {
   "cell_type": "code",
   "execution_count": 6,
   "metadata": {},
   "source": [
    "def plot_num_chargers(df, xcol, xlabel):\n",
    "    n_cols = [c for c in df.columns if c[:4] == 'N at' and (df[c] > 1e-3).any()]\n",
    "    n_labs = {c: c[4:] for c in n_cols}\n",
    "\n",
    "    fig, ax = plt.subplots(figsize=(9,6))\n",
    "    patterns = ['solid', 'dotted', 'dashed', 'dashdot',\n",
    "                (0, (3, 1, 1, 1, 1, 1)), (0, (3, 5, 1, 5))]\n",
    "    for i, c in enumerate(n_cols):\n",
    "        ax.plot(df[xcol], df[c], label=n_labs[c], linestyle=patterns[i])\n",
    "    \n",
    "    plt.ylabel('Number of Chargers Built')\n",
    "    plt.xlabel(xlabel)\n",
    "    plt.legend(loc='best')\n",
    "    plt.tight_layout()\n",
    "    return fig\n",
    "#     plt.savefig(save_name, dpi=600)"
   ],
   "outputs": []
  },
  {
   "cell_type": "code",
   "execution_count": 7,
   "metadata": {},
   "source": [
    "# df, x, x_label, alpha, gamma, legend_loc='center'\n",
    "def plot_costs_and_num_chargers(df, x, xlabel, alpha=None, gamma=200,\n",
    "                                legend_loc_a='best', legend_loc_b='best'):\n",
    "    # First plot: stacked costs\n",
    "    fig = plt.figure(figsize=(16, 9))\n",
    "    ax1 = plt.subplot(1, 2, 1)\n",
    "    time_cost = df['operations_cost']\n",
    "#     if x == 'alpha':\n",
    "#         time_cost = df['alpha'] * df['recov_time_lost']\n",
    "#     else:\n",
    "#         time_cost = alpha * df['recov_time_lost']\n",
    "    \n",
    "    bu_cost = gamma * df['n_backups']\n",
    "    if any(bu_cost > 1e-6):\n",
    "        y_plot = (df['capital_cost'], time_cost, bu_cost)\n",
    "        labels = ('Capital cost', 'Charging cost', 'Backup bus cost')\n",
    "    else:\n",
    "        y_plot = (df['capital_cost'], time_cost)\n",
    "        labels = ('Capital cost', 'Charging cost')\n",
    "        \n",
    "    ax1.stackplot(df[x], *y_plot,\n",
    "                 labels=labels,\n",
    "                 colors=('r', 'b', 'g'))\n",
    "    ax1.set_xlabel(xlabel)\n",
    "    ax1.set_ylabel('Cost')\n",
    "    ax1.legend(loc=legend_loc_a)\n",
    "    ax1.set_title('(a)')\n",
    "    \n",
    "    n_cols = [c for c in df.columns if c[:4] == 'N at' and (df[c] > 1e-3).any()]\n",
    "    n_labs = {c: c[4:] for c in n_cols}\n",
    "\n",
    "    # Second plot: number of chargers\n",
    "    ax2 = plt.subplot(1, 2, 2)\n",
    "    patterns = ['solid', 'dotted', 'dashed', 'dashdot',\n",
    "                (0, (3, 1, 1, 1, 1, 1)), (0, (3, 5, 1, 5))]\n",
    "    for i, c in enumerate(n_cols):\n",
    "        ax2.plot(df[x], df[c], label=n_labs[c], linestyle=patterns[i])\n",
    "    \n",
    "    ax2.set_ylabel('Number of Chargers Built')\n",
    "    ax2.set_xlabel(xlabel)\n",
    "    ax2.legend(loc=legend_loc_b)\n",
    "    ax2.set_title('(b)')\n",
    "    ax2.yaxis.set_major_locator(MaxNLocator(integer=True))\n",
    "    plt.tight_layout()\n",
    "    \n",
    "    return fig"
   ],
   "outputs": []
  },
  {
   "cell_type": "code",
   "execution_count": 8,
   "metadata": {},
   "source": [
    "# df, x, x_label, alpha, gamma, legend_loc='center'\n",
    "def plot_three_sensitivity(df, x, xlabel, alpha, gamma):\n",
    "    # First plot: stacked costs\n",
    "    fig = plt.figure(figsize=(16, 9))\n",
    "    ax1 = plt.subplot(1, 3, 2)\n",
    "    time_cost = df['operations_cost']\n",
    "#     time_cost = alpha * df['recov_time_lost']\n",
    "    bu_cost = gamma * df['n_backups']\n",
    "    ax1.stackplot(df[x], df['capital_cost'], time_cost, bu_cost,\n",
    "                 labels=('Capital cost', 'Charging cost', 'Backup bus cost'),\n",
    "                 colors=('r', 'b', 'g'))\n",
    "    ax1.set_xlabel(xlabel)\n",
    "    ax1.set_ylabel('Cost')\n",
    "    ax1.legend(loc='best')\n",
    "    ax1.set_title('(b)')\n",
    "    \n",
    "    # Second plot: number of chargers built\n",
    "    n_cols = [c for c in df.columns if c[:4] == 'N at' and (df[c] > 1e-3).any()]\n",
    "    n_labs = {c: c[4:] for c in n_cols}\n",
    "    ax2 = plt.subplot(1, 3, 3)\n",
    "    patterns = ['solid', 'dotted', 'dashed', 'dashdot',\n",
    "                (0, (3, 1, 1, 1, 1, 1)), (0, (3, 5, 1, 5))]\n",
    "    for i, c in enumerate(n_cols):\n",
    "        ax2.plot(df[x], df[c], label=n_labs[c], linestyle=patterns[i])\n",
    "    \n",
    "    ax2.set_ylabel('Number of Chargers Built')\n",
    "    ax2.set_xlabel(xlabel)\n",
    "    ax2.legend(loc='best')\n",
    "    ax2.set_title('(c)')\n",
    "    ax2.yaxis.set_major_locator(MaxNLocator(integer=True))\n",
    "    \n",
    "    # Third plot: number of backup buses used    \n",
    "    ax3 = plt.subplot(1, 3, 1)\n",
    "    ax3.plot(df[x], df['n_backups'], color='r', linestyle='solid')\n",
    "    ax3.set_ylabel('Number of Backup Buses Used')\n",
    "    ax3.set_xlabel(xlabel)\n",
    "    ax3.yaxis.set_major_locator(MaxNLocator(integer=True))\n",
    "    ax3.set_title('(a)')\n",
    "    plt.tight_layout()\n",
    "    \n",
    "    return fig"
   ],
   "outputs": []
  },
  {
   "cell_type": "code",
   "execution_count": 9,
   "metadata": {},
   "source": [
    "prefix = '../results/sensitivity'"
   ],
   "outputs": []
  },
  {
   "cell_type": "markdown",
   "metadata": {},
   "source": [
    "# Combined charger power and battery capacity"
   ]
  },
  {
   "cell_type": "code",
   "execution_count": 10,
   "metadata": {},
   "source": [
    "all_files = os.listdir(prefix)\n",
    "combined_files = [prefix + '/' + f for f in all_files if f[:8] == 'combined' and f[-3:] == 'csv']\n",
    "# Read in results\n",
    "comb_dfs = list()\n",
    "for f in combined_files:\n",
    "    comb_dfs.append(pd.read_csv(f))\n",
    "comb_df = pd.concat(comb_dfs).sort_values(by=['u_max', 'rho'])"
   ],
   "outputs": []
  },
  {
   "cell_type": "code",
   "execution_count": 11,
   "metadata": {},
   "source": [
    "rho_vals = comb_df['rho'].unique()"
   ],
   "outputs": []
  },
  {
   "cell_type": "code",
   "execution_count": 12,
   "metadata": {},
   "source": [
    "u_vals = comb_df['u_max'].unique()"
   ],
   "outputs": []
  },
  {
   "cell_type": "code",
   "execution_count": 13,
   "metadata": {},
   "source": [
    "comb_df = comb_df.set_index(['u_max', 'rho'])"
   ],
   "outputs": []
  },
  {
   "cell_type": "code",
   "execution_count": 14,
   "metadata": {},
   "source": [
    "comb_df['total_cost'] = comb_df['obj_val'] + 200*comb_df['n_backups']"
   ],
   "outputs": []
  },
  {
   "cell_type": "code",
   "execution_count": 15,
   "metadata": {},
   "source": [
    "n = 10\n",
    "cvals = np.zeros((n, n))\n",
    "for i in range(n):\n",
    "    for j in range(n):\n",
    "        val = comb_df.loc[(u_vals[i], rho_vals[j]), 'total_cost']\n",
    "        if isinstance(val, np.float64) or isinstance(val, float):\n",
    "            cvals[i, j] = val\n",
    "        else:\n",
    "            print(u_vals[i], rho_vals[j], val)\n",
    "            cvals[i, j] = val[0]"
   ],
   "outputs": []
  },
  {
   "cell_type": "code",
   "execution_count": 16,
   "metadata": {},
   "source": [
    "plt.figure(figsize=(9, 6))\n",
    "plt.pcolor(u_vals[:n], rho_vals[:n], cvals)\n",
    "plt.xlabel('$\\overline{u}$ (kWh)')\n",
    "plt.ylabel(r'$\\rho$ (kw)')\n",
    "# plt.title('Impact of Charger Power and\\nBattery Capacity on Optimal Cost')\n",
    "plt.colorbar(label='Cost')"
   ],
   "outputs": []
  },
  {
   "cell_type": "markdown",
   "metadata": {},
   "source": [
    "### Same plot, but with log scale"
   ]
  },
  {
   "cell_type": "code",
   "execution_count": 17,
   "metadata": {},
   "source": [
    "plt.figure(figsize=(9, 6))\n",
    "plt.pcolor(u_vals[:n], rho_vals[:n], np.log(cvals))\n",
    "plt.xlabel('$\\overline{u}_v$ (kWh)')\n",
    "plt.ylabel(r'$\\rho^s$ (kW)')\n",
    "plt.colorbar(label='Logarithm of cost')\n",
    "plt.tight_layout()\n",
    "plt.savefig('power_and_capacity_sensitivity.pdf', dpi=350)"
   ],
   "outputs": []
  },
  {
   "cell_type": "markdown",
   "metadata": {},
   "source": [
    "# Objective weight $\\alpha$"
   ]
  },
  {
   "cell_type": "code",
   "execution_count": 20,
   "metadata": {},
   "source": [
    "all_files = os.listdir(prefix)\n",
    "alpha_files = [prefix + '/' + f for f in all_files if f[:5] == 'alpha' and f[-3:] == 'csv']\n",
    "# Read in results for varying alpha\n",
    "alpha_dfs = list()\n",
    "for f in alpha_files:\n",
    "    alpha_dfs.append(pd.read_csv(f))\n",
    "alpha_df = pd.concat(alpha_dfs).sort_values(by='alpha')\n",
    "# # Fix error from outputting code\n",
    "# alpha_df['operations_cost'] = alpha_df['alpha']*(\n",
    "#     alpha_df['deadhead_time']*60/25 + alpha_df['charge_time'])"
   ],
   "outputs": []
  },
  {
   "cell_type": "code",
   "execution_count": 21,
   "metadata": {},
   "source": [
    "a_cost_fig = plot_two_columns(alpha_df, 'alpha', r'$ \\alpha $', 'capital_cost', 'Capital cost',\n",
    "                'recov_time_lost', 'Lost recovery time', 'costs_vs_alpha.png',\n",
    "                'center', 'diff')"
   ],
   "outputs": []
  },
  {
   "cell_type": "code",
   "execution_count": 22,
   "metadata": {},
   "source": [
    "n_fig_alpha = plot_num_chargers(alpha_df, 'alpha', r'$\\alpha$')"
   ],
   "outputs": []
  },
  {
   "cell_type": "code",
   "execution_count": 21,
   "metadata": {},
   "source": [
    "# So far: 300 kW w/ 1 charger max seems clearest for alpha"
   ],
   "outputs": []
  },
  {
   "cell_type": "code",
   "execution_count": 22,
   "metadata": {},
   "source": [
    "n_fig_alpha.savefig('num_chargers_vs_alpha.png', dpi=600)"
   ],
   "outputs": []
  },
  {
   "cell_type": "code",
   "execution_count": 23,
   "metadata": {},
   "source": [
    "alpha_fig_dbl = plot_costs_and_num_chargers(alpha_df, 'alpha', r'$\\alpha$', legend_loc_a='upper left')"
   ],
   "outputs": []
  },
  {
   "cell_type": "code",
   "execution_count": 58,
   "metadata": {},
   "source": [
    "alpha_fig_dbl.savefig('../results/alpha_sensitivity_full.pdf', dpi=350)"
   ],
   "outputs": []
  },
  {
   "cell_type": "markdown",
   "metadata": {},
   "source": [
    "# TODO: Why is obj_val != operations_cost + capital_cost for low values of alpha??\n",
    " * I suspect we are not counting some of the lost recovery time for these cases. But why is that? Maybe start or end trips aren't handled correctly?\n",
    " * Answer: deadhead distance rather than deadhead time was being reported!!"
   ]
  },
  {
   "cell_type": "markdown",
   "metadata": {},
   "source": [
    "# Charging power $\\rho$"
   ]
  },
  {
   "cell_type": "code",
   "execution_count": 24,
   "metadata": {},
   "source": [
    "all_files = os.listdir(prefix)\n",
    "rho_files = [prefix + '/' + f for f in all_files if f[:3] == 'rho' and f[-3:] == 'csv']\n",
    "rho_dfs = list()\n",
    "for f in rho_files:\n",
    "    rho_dfs.append(pd.read_csv(f))\n",
    "rho_df = pd.concat(rho_dfs).sort_values(by='rho')"
   ],
   "outputs": []
  },
  {
   "cell_type": "code",
   "execution_count": 25,
   "metadata": {},
   "source": [
    "rho_fig = plot_stacked_costs(rho_df, 'rho', r'$\\rho$ (kW)', alpha=1, gamma=200)"
   ],
   "outputs": []
  },
  {
   "cell_type": "code",
   "execution_count": null,
   "metadata": {},
   "source": [
    "rho_fig.savefig('rho_costs.pdf', dpi=350)"
   ],
   "outputs": []
  },
  {
   "cell_type": "code",
   "execution_count": 26,
   "metadata": {},
   "source": [
    "rho_fig_triple = plot_three_sensitivity(rho_df, 'rho', r'$\\rho^s$ (kW)', alpha=1, gamma=200)"
   ],
   "outputs": []
  },
  {
   "cell_type": "code",
   "execution_count": 32,
   "metadata": {},
   "source": [
    "rho_fig_triple.savefig('rho_sensitivity_full.pdf', dpi=350)"
   ],
   "outputs": []
  },
  {
   "cell_type": "code",
   "execution_count": 28,
   "metadata": {},
   "source": [
    "rho_fig_double = plot_costs_and_num_chargers(rho_df, 'rho', r'$\\rho$', 2, 200)\n",
    "rho_fig_double.savefig('rho_costs_and_chargers.png', dpi=350)"
   ],
   "outputs": []
  },
  {
   "cell_type": "code",
   "execution_count": 15,
   "metadata": {},
   "source": [
    "bu_vs_rho = plot_one_column(rho_df, 'rho', r'$\\rho$ (kW)', 'n_backups', 'Number of Backup Buses Used')"
   ],
   "outputs": []
  },
  {
   "cell_type": "code",
   "execution_count": 16,
   "metadata": {},
   "source": [
    "bu_vs_rho.savefig('n_backups_vs_rho.png', dpi=600)"
   ],
   "outputs": []
  },
  {
   "cell_type": "code",
   "execution_count": 10,
   "metadata": {
    "collapsed": true
   },
   "source": [
    "rho_cost = plot_two_columns(rho_df, 'rho', r'$ \\rho $', 'recov_time_lost', 'Lost recovery time',\n",
    "                'capital_cost', 'Capital cost', 'costs_vs_rho.png',\n",
    "                'center', 'diff')"
   ],
   "outputs": []
  },
  {
   "cell_type": "code",
   "execution_count": 11,
   "metadata": {
    "collapsed": true
   },
   "source": [
    "plot_two_columns(rho_df, 'rho', r'$ \\rho $', 'obj_val', 'Objective Value',\n",
    "                'num_chargers', 'Number of chargers', 'charge_details_vs_rho.png',\n",
    "                'center', 'diff')"
   ],
   "outputs": []
  },
  {
   "cell_type": "code",
   "execution_count": 59,
   "metadata": {},
   "source": [
    "rho_n_chargers = plot_num_chargers(rho_df, 'rho', r'$\\rho$ (kW)')"
   ],
   "outputs": []
  },
  {
   "cell_type": "code",
   "execution_count": 18,
   "metadata": {},
   "source": [
    "rho_n_chargers.savefig('num_chargers_vs_rho.png', dpi=600)"
   ],
   "outputs": []
  },
  {
   "cell_type": "markdown",
   "metadata": {},
   "source": [
    "# Charger cost $g$"
   ]
  },
  {
   "cell_type": "code",
   "execution_count": 50,
   "metadata": {},
   "source": [
    "all_files = os.listdir(prefix)\n",
    "g_files = [prefix + '/' + f for f in all_files if f[:2] == 'g_' and f[-3:] == 'csv']\n",
    "# Read in results for varying g\n",
    "g_dfs = list()\n",
    "for f in g_files:\n",
    "    g_dfs.append(pd.read_csv(f))\n",
    "g_df = pd.concat(g_dfs).sort_values(by='g')"
   ],
   "outputs": []
  },
  {
   "cell_type": "code",
   "execution_count": 52,
   "metadata": {},
   "source": [
    "plot_num_chargers(g_df, 'g', r'$g$')"
   ],
   "outputs": []
  },
  {
   "cell_type": "markdown",
   "metadata": {},
   "source": [
    "# Battery capacity $\\overline{u}$"
   ]
  },
  {
   "cell_type": "markdown",
   "metadata": {},
   "source": [
    "## Keeping charger power fixed"
   ]
  },
  {
   "cell_type": "code",
   "execution_count": 34,
   "metadata": {},
   "source": [
    "all_files = os.listdir(prefix)\n",
    "u_files = [prefix + '/' + f for f in all_files if f[:5] == 'u_max' and f[-3:] == 'csv'\n",
    "           and '100kW' not in f]\n",
    "# Read in results for varying g\n",
    "u_dfs = list()\n",
    "for f in u_files:\n",
    "    u_dfs.append(pd.read_csv(f))\n",
    "u_df = pd.concat(u_dfs).sort_values(by='u_max')"
   ],
   "outputs": []
  },
  {
   "cell_type": "code",
   "execution_count": 35,
   "metadata": {},
   "source": [
    "u_costs = plot_stacked_costs(u_df, 'u_max', r'$\\overline{u}$ (kW)', alpha=1, gamma=200, legend_loc='best')"
   ],
   "outputs": []
  },
  {
   "cell_type": "code",
   "execution_count": 36,
   "metadata": {},
   "source": [
    "u_costs.savefig('u_costs.pdf', dpi=350)"
   ],
   "outputs": []
  },
  {
   "cell_type": "code",
   "execution_count": 37,
   "metadata": {},
   "source": [
    "u_full_fig = plot_three_sensitivity(u_df, 'u_max', r'$\\overline{u}_v$ (kWh)', alpha=1, gamma=200)"
   ],
   "outputs": []
  },
  {
   "cell_type": "code",
   "execution_count": 38,
   "metadata": {},
   "source": [
    "u_full_fig.savefig('u_sensitivity_full.png', dpi=600)"
   ],
   "outputs": []
  },
  {
   "cell_type": "code",
   "execution_count": 39,
   "metadata": {},
   "source": [
    "u_costs_chargers = plot_costs_and_num_chargers(u_df, 'u_max', r'$\\overline{u}$', alpha=1, gamma=200)"
   ],
   "outputs": []
  },
  {
   "cell_type": "code",
   "execution_count": 60,
   "metadata": {},
   "source": [
    "u_costs_chargers.savefig('u_costs_and_chargers.pdf', dpi=350)"
   ],
   "outputs": []
  },
  {
   "cell_type": "markdown",
   "metadata": {},
   "source": [
    "## Fixing charger power at 100 kW"
   ]
  },
  {
   "cell_type": "code",
   "execution_count": 40,
   "metadata": {},
   "source": [
    "all_files = os.listdir(prefix)\n",
    "u_files = [prefix + '/' + f for f in all_files if f[:5] == 'u_max' and f[-3:] == 'csv'\n",
    "           and '100kW' in f]\n",
    "# Read in results for varying g\n",
    "u_dfs = list()\n",
    "for f in u_files:\n",
    "    u_dfs.append(pd.read_csv(f))\n",
    "u_df = pd.concat(u_dfs).sort_values(by='u_max')"
   ],
   "outputs": []
  },
  {
   "cell_type": "code",
   "execution_count": 44,
   "metadata": {},
   "source": [
    "u_df"
   ],
   "outputs": []
  },
  {
   "cell_type": "markdown",
   "metadata": {},
   "source": [
    "Why does the cost plot look so weird? Is this the same problem that was going on before? Trend is not consistent at all, which is pretty weird."
   ]
  },
  {
   "cell_type": "code",
   "execution_count": 47,
   "metadata": {},
   "source": [
    "u_full_fig = plot_three_sensitivity(u_df, 'u_max', r'$\\overline{u}_v$ (kWh)', alpha=1, gamma=200)"
   ],
   "outputs": []
  },
  {
   "cell_type": "code",
   "execution_count": 42,
   "metadata": {},
   "source": [
    "u_full_fig.savefig('u_sensitivity_full.png', dpi=600)"
   ],
   "outputs": []
  },
  {
   "cell_type": "markdown",
   "metadata": {},
   "source": [
    "One interpretation to mention in paper: it may not necessarily be a bad thing to use more backup buses. In some case, costs are lower with more backups required. Maybe it's okay to have this trend; it's just a sign that it woulb be much more efficient to reconsider blocks than to build more chargers.\n",
    "\n",
    "Caveat: sometimes the objective value is going way up, requiring far more chargers, even though battery capacity goes up. Why would that happen? It must be a product of BEB-TRO's imperfect approach (only considering one block at a time). Maybe by random chance, with slightly larger capacity TRO is choosing to replace blocks that are all around the same time, so more conflicts result. I don't have a great sense of why this would happen. Maybe it's replacing a lot of early trips or something."
   ]
  },
  {
   "cell_type": "code",
   "execution_count": 51,
   "metadata": {},
   "source": [
    "u_df[['obj_val', 'n_backups', 'num_chargers', 'capital_cost', 'operations_cost']]"
   ],
   "outputs": []
  },
  {
   "cell_type": "code",
   "execution_count": null,
   "metadata": {},
   "source": [],
   "outputs": []
  }
 ],
 "metadata": {
  "kernelspec": {
   "display_name": "Python (cet513)",
   "language": "python",
   "name": "cet513"
  },
  "language_info": {
   "codemirror_mode": {
    "name": "ipython",
    "version": 3
   },
   "file_extension": ".py",
   "mimetype": "text/x-python",
   "name": "python",
   "nbconvert_exporter": "python",
   "pygments_lexer": "ipython3",
   "version": "3.7.12"
  }
 },
 "nbformat": 4,
 "nbformat_minor": 4
}
