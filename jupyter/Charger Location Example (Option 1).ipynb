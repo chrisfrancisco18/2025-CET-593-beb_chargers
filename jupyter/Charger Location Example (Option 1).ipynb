{
 "cells": [
  {
   "cell_type": "markdown",
   "id": "e8a984ac-a910-4ea1-bbc8-48ba6a467e93",
   "metadata": {},
   "source": [
    "# Before installing python library\n",
    "- Please see the tutorial slides"
   ]
  },
  {
   "attachments": {},
   "cell_type": "markdown",
   "id": "d077fd07-9497-4022-bf8d-0ae98ea20524",
   "metadata": {},
   "source": [
    "# Install Python Library \n",
    "- you only need to run these the first time to install the library and its dependencies"
   ]
  },
  {
   "cell_type": "code",
   "execution_count": null,
   "id": "02a22765-3411-488c-828f-f95adb960269",
   "metadata": {},
   "outputs": [],
   "source": [
    "%pip install git+https://github.com/iuts-beb-chargers/2025-CET-593-beb_chargers.git\n",
    "%pip install -r https://raw.githubusercontent.com/iuts-beb-chargers/2025-CET-593-beb_chargers/main/requirements.txt"
   ]
  },
  {
   "attachments": {},
   "cell_type": "markdown",
   "id": "97df5ab5-3f36-4cf3-96ce-5ce30f6560cc",
   "metadata": {},
   "source": [
    "# Optimizing Opportunity Charging Locations\n",
    "This example shows how to use the `ChargerLocationModel` class to solve our charger location model for a particular problem instance and visualize some of the results.\n",
    "\n",
    "First, we import all dependencies and set up logging of results."
   ]
  },
  {
   "cell_type": "code",
   "execution_count": null,
   "id": "691669a9-522b-4147-b371-48506db86db8",
   "metadata": {},
   "outputs": [],
   "source": [
    "from beb_chargers.scripts.script_helpers import build_trips_df, \\\n",
    "    build_charger_location_inputs\n",
    "from beb_chargers.opt.charger_location import ChargerLocationModel\n",
    "from beb_chargers.gtfs_beb import GTFSData\n",
    "from beb_chargers.vis import plot_trips_and_terminals, plot_deadhead\n",
    "from pathlib import Path\n",
    "import datetime\n",
    "import pandas as pd\n",
    "import logging\n",
    "logging.basicConfig(level=logging.INFO)"
   ]
  },
  {
   "cell_type": "markdown",
   "id": "038ededd-1866-4588-ace3-4cbadb597ce3",
   "metadata": {},
   "source": [
    "## Setting up path file\n",
    "- please update the path file"
   ]
  },
  {
   "cell_type": "code",
   "execution_count": null,
   "id": "d5f09b9a-d213-4c36-a977-e78931b7e638",
   "metadata": {},
   "outputs": [],
   "source": [
    "# Locate CSV file giving candidate charger sites for this instance\n",
    "site_fname = Path.cwd().parent / 'beb_chargers' / 'data' / 'site_location' / 'so_king_cty_sites.csv'\n",
    "\n",
    "# Directory to GTFS files, as a platform-agnostic path\n",
    "gtfs_dir = Path.cwd().parent / 'beb_chargers' / 'data' / 'gtfs' / 'metro_mar24'\n",
    "\n",
    "# Directory to osm files\n",
    "# osm_charge_data.pickle is generated after your compile the code\n",
    "osm = Path.cwd().parent / 'beb_chargers' / 'data' / 'osm' / 'osm_charge_data.pickle'"
   ]
  },
  {
   "attachments": {},
   "cell_type": "markdown",
   "id": "9a3ed063-e335-4353-ab49-1f6f38f54a1a",
   "metadata": {},
   "source": [
    "## Setting up problem parameters\n",
    "In the following sections, we'll define input data for our problem. We look into selecting charging locations for a set of 21 bus routes in South King County, WA. The candidate charging locations are stored at `beb_chargers/data/so_king_cty_sites.csv` and we assume each charger has a power output of 450 kW. We define the depot location where all buses start and end service to be Metro's South Base. Bus trip and schedule data comes from the Metro GTFS feed and we'll run our test for March 28, 2024."
   ]
  },
  {
   "attachments": {},
   "cell_type": "markdown",
   "id": "be6ae92f-7249-4dc6-91ab-653ed7824e0f",
   "metadata": {},
   "source": [
    "### Define charger parameters"
   ]
  },
  {
   "cell_type": "code",
   "execution_count": null,
   "id": "a2a3ea75-1975-4024-a53f-200a26f5c16a",
   "metadata": {},
   "outputs": [],
   "source": [
    "# Power output of each charger. Note that the model expects a unit of\n",
    "# kilowatt-hours per minute, so that the amount of energy gained equals\n",
    "# charging time (in minutes) multiplied by power (in kWh/min). Here, we\n",
    "# use 450 kW = 450 / 60 kWh/min\n",
    "chg_pwrs = 450 / 60\n",
    "\n",
    "# Maximum number of chargers per site. We'll set it to 4 everywhere\n",
    "n_max = 4\n",
    "\n",
    "# Cost parameters. See TRC paper for where the values come from.\n",
    "s_cost = 200000\n",
    "c_cost = 698447\n",
    "alpha = 190 * 365 * 12 / 60\n",
    "\n",
    "# Load candidate charging sites given by Metro and add params as columns\n",
    "loc_df = pd.read_csv(site_fname)\n",
    "loc_df['max_chargers'] = n_max\n",
    "loc_df['kw'] = chg_pwrs * 60\n",
    "loc_df['fixed_cost'] = s_cost\n",
    "loc_df['charger_cost'] = c_cost\n",
    "\n",
    "# Define coordinates of overnight depot at South Base\n",
    "depot_coords = (47.495809, -122.286190)"
   ]
  },
  {
   "attachments": {},
   "cell_type": "markdown",
   "id": "2c688699-72b7-4fb1-9bf8-9f2116e55ea2",
   "metadata": {},
   "source": [
    "### Read in GTFS data"
   ]
  },
  {
   "cell_type": "code",
   "execution_count": null,
   "id": "e26c1554-759f-4d8a-909a-a122dc032683",
   "metadata": {},
   "outputs": [],
   "source": [
    "# Load GTFS data into our custom object\n",
    "gtfs = GTFSData.from_dir(gtfs_dir)"
   ]
  },
  {
   "attachments": {},
   "cell_type": "markdown",
   "id": "651bf62a-f8de-4190-9596-f6193d60bbad",
   "metadata": {},
   "source": [
    "### Define bus parameters"
   ]
  },
  {
   "cell_type": "code",
   "execution_count": null,
   "id": "cc4e3d7d-562f-494b-87ad-c48502413b16",
   "metadata": {},
   "outputs": [],
   "source": [
    "# Battery capacity in kWh\n",
    "battery_cap = 300\n",
    "# Energy consumption per mile for all buses (we'll assume it's the same\n",
    "# for all buses here)\n",
    "kwh_per_mi = 3"
   ]
  },
  {
   "attachments": {},
   "cell_type": "markdown",
   "id": "03c6a9d1-650b-4d7c-94c7-f0f0c4c7d189",
   "metadata": {},
   "source": [
    "### Set which routes are included"
   ]
  },
  {
   "cell_type": "code",
   "execution_count": null,
   "id": "1a65fb75-9bb6-45f0-9119-4d69ceb82a87",
   "metadata": {},
   "outputs": [],
   "source": [
    "# All routes included in analysis\n",
    "beb_routes = [\n",
    "    101, 102, 105, 106, 107, 131, 132,\n",
    "    150, 153, 156, 160, 161, 162, 165,\n",
    "    168, 177, 182, 183, 187, 193, 240\n",
    "]\n",
    "beb_routes = [str(r) for r in beb_routes]"
   ]
  },
  {
   "attachments": {},
   "cell_type": "markdown",
   "id": "72f0db9a-de2c-44b7-a417-d8d1925924a2",
   "metadata": {},
   "source": [
    "## Build DataFrame containing all trips in this instance and their details"
   ]
  },
  {
   "cell_type": "code",
   "execution_count": null,
   "id": "024dbb2a-00ea-486d-b318-e03ce748e802",
   "metadata": {},
   "outputs": [],
   "source": [
    "# We'll run analysis for March 28, 2024\n",
    "ocl_date = datetime.datetime(2024, 3, 28)"
   ]
  },
  {
   "cell_type": "code",
   "execution_count": null,
   "id": "88d440c1-ff93-4b12-826b-fb009ab81139",
   "metadata": {},
   "outputs": [],
   "source": [
    "# Call helper function to build up DF\n",
    "beb_trips = build_trips_df(\n",
    "    gtfs=gtfs,\n",
    "    date=ocl_date,\n",
    "    routes=beb_routes,\n",
    "    depot_coords=depot_coords,\n",
    "    add_depot_dh=True,\n",
    "    add_kwh_per_mi=False,\n",
    "    add_durations=False,\n",
    "    routes_60=[],\n",
    "    osm_fname = osm\n",
    ")\n",
    "# Add a column giving energy consumption for each trip\n",
    "beb_trips['kwh_per_mi'] = kwh_per_mi"
   ]
  },
  {
   "cell_type": "code",
   "execution_count": null,
   "id": "1b798b67-41b8-4c35-aba1-3cb82d788136",
   "metadata": {},
   "outputs": [],
   "source": [
    "# Record how many trips and blocks are active on our specified routes on this day\n",
    "logging.info(\n",
    "    '{}: There are {} total trips to be served by {} BEB blocks.'.format(\n",
    "        ocl_date.strftime('%m/%d/%y'), len(beb_trips), beb_trips['block_id'].nunique()\n",
    "    )\n",
    ")"
   ]
  },
  {
   "attachments": {},
   "cell_type": "markdown",
   "id": "6eae6a4d-a487-4da6-ab35-d4afe929f6a0",
   "metadata": {},
   "source": [
    "## Show a map of the trips and chargers included in this instance\n",
    "The helper function `plot_trips_and_terminals` from `beb_chargers.vis` will create an overview map of our instance. When we show the map in a Jupyter notebook, it will show up as short and wide, which doesn't look great for Seattle. Running in pure Python, it'll pop up in a browser tab that you can easily resize to get a nicer shape. Likewise, you could save it as .html to view in the browser. See the `plotly` documentation for details."
   ]
  },
  {
   "cell_type": "code",
   "execution_count": null,
   "id": "dd30a375-d0e2-4f16-96ff-e36ab0f32f1c",
   "metadata": {},
   "outputs": [],
   "source": [
    "# Create a map of the problem instance\n",
    "inst_map = plot_trips_and_terminals(\n",
    "    beb_trips, loc_df, gtfs.shapes_df, 'light'\n",
    ")\n",
    "# These config params make map downloads higher resolution\n",
    "config = {\n",
    "    'toImageButtonOptions': {\n",
    "        'format': 'png',\n",
    "        'scale': 3\n",
    "    }\n",
    "}\n",
    "inst_map.show(config=config)"
   ]
  },
  {
   "attachments": {},
   "cell_type": "markdown",
   "id": "dd45a28d-8964-421a-945d-f935750fbde6",
   "metadata": {},
   "source": [
    "## Package together inputs for charger location\n",
    "`build_charger_location_inputs` provides a convenient wrapper for collecting all the inputs to create a `ChargerLocationModel`. We need to provide our DataFrame of trip info, our `GTFSData` instance, the DataFrame of candidate charging sites, depot location, and battery capacity of buses (while the model can handle a different capacity for each bus, this function assumes they're all the same when building up inputs, which is usually how it works when I'm testing).\n",
    "\n",
    "The return value of this function is a dictionary of keyword arguments `opt_kwargs` containing all of the inputs necessary to instantiate and then run a `ChargerLocationModel`."
   ]
  },
  {
   "cell_type": "code",
   "execution_count": null,
   "id": "7ecaae25-f393-4be7-9e3c-8b67be6c9781",
   "metadata": {},
   "outputs": [],
   "source": [
    "opt_kwargs = build_charger_location_inputs(\n",
    "    gtfs=gtfs,\n",
    "    trips_df=beb_trips,\n",
    "    chargers_df=loc_df,\n",
    "    depot_coords=depot_coords,\n",
    "    battery_cap=battery_cap,\n",
    "    osm_fname = osm,\n",
    ")"
   ]
  },
  {
   "attachments": {},
   "cell_type": "markdown",
   "id": "d11b01e2-5a2a-4ce0-9798-d45fca4237c4",
   "metadata": {},
   "source": [
    "## Build and run the optimization model"
   ]
  },
  {
   "cell_type": "code",
   "execution_count": null,
   "id": "a0beca81-a1ed-4805-aff6-cf354449bb82",
   "metadata": {},
   "outputs": [],
   "source": [
    "# Create instance of charger location model based on those inputs\n",
    "clm = ChargerLocationModel(**opt_kwargs)\n",
    "# Solve the model with zero optimality gap\n",
    "clm.solve(alpha=alpha, opt_gap=0, bu_kwh=battery_cap, jupyter_case=osm)"
   ]
  },
  {
   "attachments": {},
   "cell_type": "markdown",
   "id": "de1c08fc-aecc-46ec-ab7a-0abae7642144",
   "metadata": {},
   "source": [
    "### Understanding the output\n",
    "The `logging` module is used to provide some info as the solution process evolves. First, the model does some simple math to identify the number of blocks that must use opportunity charging (121 in this case) and the total number of trips on these blocks (1383).\n",
    "\n",
    "Next, the model reports the number of infeasible blocks that will not be able to complete all trips on timing using the proposed opportunity charging infrastructure, even if the maximum number of chargers is installed everywhere. Here, there are 9 infeasible blocks that serve a total of 49 trips combined. The BEB-BRP model is used to revise these blocks so that they are feasible by serving them with a fleet of additional backup buses. The best solution in this case dispatches 10 backup buses.\n",
    "\n",
    "After the BRP is solved, charger locations are optimized based on the revised blocks. We log some info about the solution process. First, this includes info about the conflict sets that are populated to create queue prevention constraints. In this case, the mean size of each conflict set is 4.79. Then we get updates on the solution progress as we generate constraints lazily whenever they are violated. The initial model includes no prevention constraints, the next has 169, the next has 172, and then the model is solved to optimality.\n",
    "\n",
    "Note that it's possible you could get slightly different results from what I wrote above because there may be some randomness in the solver, but the final solution should have the same objective value."
   ]
  },
  {
   "attachments": {},
   "cell_type": "markdown",
   "id": "483db9b6-d6c3-431d-b311-8a7b60214da1",
   "metadata": {},
   "source": [
    "## Log the results"
   ]
  },
  {
   "cell_type": "code",
   "execution_count": null,
   "id": "90d1b397-ca08-4dbd-95ab-1df2c9536616",
   "metadata": {},
   "outputs": [],
   "source": [
    "clm.log_results()"
   ]
  },
  {
   "attachments": {},
   "cell_type": "markdown",
   "id": "02461bee-1bc3-4d12-a39f-de8cac8e4cc8",
   "metadata": {},
   "source": [
    "Calling `log_results()` gives us summary info about the result of our solve. We get the number of backup buses from BEB-BRP, final objective value of BEB-OCL, charging sites that are used, number of chargers at each location, and information about how chargers are used including the total number of charger visits, total time spent charging, and average charging duration. "
   ]
  },
  {
   "cell_type": "code",
   "execution_count": null,
   "id": "0340bbb2-40a2-47b4-aecc-99e54c6d2de3",
   "metadata": {},
   "outputs": [],
   "source": [
    "clm.to_df().head(5)"
   ]
  },
  {
   "attachments": {},
   "cell_type": "markdown",
   "id": "bda051b5-81ee-4b1f-8ee5-229296fb8190",
   "metadata": {},
   "source": [
    "## Create some plots"
   ]
  },
  {
   "cell_type": "code",
   "execution_count": null,
   "id": "5c87cf62-e554-47e3-bf4d-695e44324283",
   "metadata": {},
   "outputs": [],
   "source": [
    "# Plot charger utilization at each site\n",
    "# This is a static plot made with Matplotlib\n",
    "clm.plot_chargers()"
   ]
  },
  {
   "cell_type": "code",
   "execution_count": null,
   "id": "754f7ca1-3ba2-4843-9e6b-12a7b2cabb89",
   "metadata": {},
   "outputs": [],
   "source": [
    "# Create map of deadhead driving to/from chargers\n",
    "# Ignore the log messages below, which come from the Google Maps directions API\n",
    "# that determines the driving paths shown\n",
    "fig = plot_deadhead(\n",
    "    result_df=clm.to_df(), loc_df=loc_df, coords_df=beb_trips\n",
    ")\n",
    "fig.show()"
   ]
  },
  {
   "cell_type": "code",
   "execution_count": null,
   "id": "7e9bd38a-b7b0-4d47-9965-addd542c7d7e",
   "metadata": {},
   "outputs": [],
   "source": []
  }
 ],
 "metadata": {
  "kernelspec": {
   "display_name": "beb_chargers",
   "language": "python",
   "name": "python3"
  },
  "language_info": {
   "codemirror_mode": {
    "name": "ipython",
    "version": 3
   },
   "file_extension": ".py",
   "mimetype": "text/x-python",
   "name": "python",
   "nbconvert_exporter": "python",
   "pygments_lexer": "ipython3",
   "version": "3.12.8"
  }
 },
 "nbformat": 4,
 "nbformat_minor": 5
}
