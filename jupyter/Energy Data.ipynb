{
 "cells": [
  {
   "cell_type": "code",
   "execution_count": 43,
   "id": "a868fd17-5147-4eeb-9922-0cd28c322187",
   "metadata": {},
   "source": [
    "import pandas as pd\n",
    "import datetime\n",
    "import sys\n",
    "import matplotlib.pyplot as plt\n",
    "import plotly.express as px\n",
    "import plotly.graph_objects as go\n",
    "import os\n",
    "sys.path.append('..')\n",
    "from beb_chargers.gtfs_beb import GTFSData, to_datetime_safe"
   ],
   "outputs": []
  },
  {
   "cell_type": "markdown",
   "id": "cbbc9356-14a5-4633-8cdd-14c8c2cd3a36",
   "metadata": {},
   "source": [
    "# Updated overview\n",
    "## Connecting realtime data to trip IDs\n",
    "\n",
    "\n",
    "## On-Time Performance\n",
    "\n",
    "## Energy Consumption"
   ]
  },
  {
   "cell_type": "markdown",
   "id": "9d261d4f-5010-4bf5-a2c7-eeb858a43245",
   "metadata": {},
   "source": [
    "# Testing on April 1st Data"
   ]
  },
  {
   "cell_type": "code",
   "execution_count": 5,
   "id": "f68a290c-bba6-4a4e-be8e-d4784fcf0ff3",
   "metadata": {},
   "source": [
    "# Read in realtime data provided by Zack\n",
    "rt_df = pd.read_pickle('../beb_chargers/data/realtime/metro/2024_04_01.pkl').reset_index(drop=True)\n",
    "rt_df = rt_df.astype(\n",
    "    dtype={\n",
    "        'vehicle_id': str,\n",
    "        'scheduleDeviation': int\n",
    "    }\n",
    ")\n",
    "# Convert time column to datetime and change time zone\n",
    "rt_df['locationtime'] = pd.to_datetime(\n",
    "    rt_df['locationtime'].astype(int), unit='s', utc=True).dt.tz_convert('US/Pacific')"
   ],
   "outputs": []
  },
  {
   "cell_type": "code",
   "execution_count": 6,
   "id": "1122274d-daee-407d-b55a-765b253b81ff",
   "metadata": {},
   "source": [
    "# Read in vehicle performance data downloaded from ChargePoint\n",
    "vc_df = pd.read_csv('../beb_chargers/data/viriciti/apr1data_v1.csv')\n",
    "vc_df = vc_df.astype(\n",
    "    dtype={\n",
    "        'Name': str\n",
    "    }\n",
    ")\n",
    "# Convert time column to datetime and make sure it's the right time zone\n",
    "vc_df['ISO Time'] = pd.to_datetime(vc_df['ISO Time']).dt.tz_convert('US/Pacific')\n",
    "\n",
    "# Exclude ChargePoint columns that are always NaN\n",
    "na_sums = vc_df.isna().sum()\n",
    "used_cols = [c for c in vc_df.columns if na_sums[c] != len(vc_df)]\n",
    "vc_df = vc_df[used_cols]"
   ],
   "outputs": []
  },
  {
   "cell_type": "code",
   "execution_count": 7,
   "id": "2b283b80-f1d1-4456-bc60-e2d4e7fc91f5",
   "metadata": {},
   "source": [
    "# Filter down realtime data to only include buses in ChargePoint data\n",
    "vids = vc_df['Name'].unique()\n",
    "rt_df = rt_df[rt_df['vehicle_id'].isin(vids)]"
   ],
   "outputs": []
  },
  {
   "cell_type": "code",
   "execution_count": 8,
   "id": "40829141-6033-474f-80d9-4df706ce1be3",
   "metadata": {},
   "source": [
    "# Read in static GTFS data\n",
    "gtfs = GTFSData.from_dir('../beb_chargers/data/gtfs/metro_mar24')\n",
    "gtfs.trips_df = gtfs.trips_df.astype({'trip_id': str, 'route_id': str})"
   ],
   "outputs": []
  },
  {
   "cell_type": "markdown",
   "id": "7e96be9f-5cf6-4eba-8fb8-d5508f01b3b2",
   "metadata": {},
   "source": [
    "### Connect vehicle number and time to trips"
   ]
  },
  {
   "cell_type": "code",
   "execution_count": 10,
   "id": "d8638d57-db72-4944-b050-8c381f5b7623",
   "metadata": {},
   "source": [
    "trip_gb = rt_df.sort_values(by='locationtime').groupby(['vehicle_id', 'trip_id'])\n",
    "trip_times_df = trip_gb['locationtime'].min().rename('min_time').to_frame()\n",
    "trip_times_df['max_time'] = trip_gb['locationtime'].max()\n",
    "trip_times_df = trip_times_df.sort_values(by=['vehicle_id', 'min_time'])\n",
    "# trip_times_df['pseudo_max_time'] = trip_gb['locationtime'].min().shift(-1)"
   ],
   "outputs": []
  },
  {
   "cell_type": "code",
   "execution_count": 11,
   "id": "8aa5b621-d9f3-47be-9222-065915927b78",
   "metadata": {},
   "source": [
    "# pseudo_max_time is start time of next trip, if there is a next trip\n",
    "trip_times_df['pseudo_max_time'] = trip_times_df.groupby('vehicle_id')['min_time'].shift(-1)\n",
    "trip_times_df['pseudo_max_time'] = trip_times_df['pseudo_max_time'].fillna(trip_times_df['max_time'])"
   ],
   "outputs": []
  },
  {
   "cell_type": "markdown",
   "id": "3050b312-7364-4c70-9f52-7e6644fb635c",
   "metadata": {},
   "source": [
    "Okay, now we have a nice list of start and end times (including a \"cleaned\" version of end times). We want to use this to map all `(vehicle_id, datetime)` tuples to the approporiate trip."
   ]
  },
  {
   "cell_type": "code",
   "execution_count": 12,
   "id": "9732c631-5dec-415f-b2ab-22dac322eeed",
   "metadata": {},
   "source": [
    "trip_times_df"
   ],
   "outputs": []
  },
  {
   "cell_type": "code",
   "execution_count": 14,
   "id": "6cf499fe-8bb7-40bd-9c48-4cf275b39420",
   "metadata": {},
   "source": [
    "time_to_trip_id = trip_times_df.reset_index()"
   ],
   "outputs": []
  },
  {
   "cell_type": "code",
   "execution_count": 15,
   "id": "8975a902-adeb-44dc-bd4e-25ad52cb554e",
   "metadata": {},
   "source": [
    "time_to_trip_id[\n",
    "    (time_to_trip_id['vehicle_id'] == vid_test)\n",
    "    & (time_to_trip_id['min_time'] <= dt_test)\n",
    "]"
   ],
   "outputs": []
  },
  {
   "cell_type": "code",
   "execution_count": null,
   "id": "e591b29b-466f-445d-a52b-420256ee8496",
   "metadata": {},
   "source": [
    "### Test for a single vehicle"
   ],
   "outputs": []
  },
  {
   "cell_type": "code",
   "execution_count": 16,
   "id": "4845dbe9-251d-4f26-90ec-b131e3fd440f",
   "metadata": {},
   "source": [
    "trip_times_df"
   ],
   "outputs": []
  },
  {
   "cell_type": "code",
   "execution_count": 17,
   "id": "46c4e969-463b-485b-b621-ee4a43bcbd95",
   "metadata": {},
   "source": [
    "rt_4700 = rt_df[rt_df['vehicle_id'] == '4700']\n",
    "vc_4700 = vc_df[vc_df['Name'] == '4700']\n",
    "times_4700 = trip_times_df.reset_index()\n",
    "times_4700 = times_4700[times_4700['vehicle_id'] == '4700']"
   ],
   "outputs": []
  },
  {
   "cell_type": "markdown",
   "id": "69ee1e3f-3144-4801-9452-67701e6d5973",
   "metadata": {},
   "source": [
    "Can we do this backwards relative to my original plan?"
   ]
  },
  {
   "cell_type": "code",
   "execution_count": 18,
   "id": "6c47235a-526e-4bac-b291-087b1e0195be",
   "metadata": {},
   "source": [
    "times_4700 = times_4700.set_index('trip_id').sort_values(by='min_time')"
   ],
   "outputs": []
  },
  {
   "cell_type": "code",
   "execution_count": 19,
   "id": "09e2aa6b-2084-48c4-8054-e9af4a4db544",
   "metadata": {},
   "source": [
    "trip_times_df"
   ],
   "outputs": []
  },
  {
   "cell_type": "code",
   "execution_count": 20,
   "id": "61093201-a584-4167-94c4-561865a0ab9d",
   "metadata": {},
   "source": [
    "vids = list()\n",
    "tids = list()\n",
    "kwhs = list()\n",
    "mis = list()\n",
    "cons = list()\n",
    "for (vid, tid) in trip_times_df.index:\n",
    "    # print(vid, tid)\n",
    "    vid_times = trip_times_df.reset_index()\n",
    "    vid_times = vid_times[vid_times['vehicle_id'] == vid].set_index('trip_id')\n",
    "    # print(vid_times)\n",
    "    vid_vc = vc_df[vc_df['Name'] == vid]\n",
    "    # print('Trip {}'.format(tid))\n",
    "    vids.append(vid)\n",
    "    tids.append(tid)\n",
    "    tid_df = vid_vc[vid_vc['ISO Time'].between(\n",
    "        vid_times.loc[tid, 'min_time'],\n",
    "        vid_times.loc[tid, 'max_time']\n",
    "    )]\n",
    "    kwh_used = tid_df['Energy used (kWh)'].max() - tid_df['Energy used (kWh)'].min()\n",
    "    kwhs.append(kwh_used)\n",
    "    mi_driven = tid_df['Distance driven (mi)'].max() - tid_df['Distance driven (mi)'].min()\n",
    "    mis.append(mi_driven)\n",
    "    cons.append(kwh_used / mi_driven)\n",
    "    # print('\\tkWh used: {:.2f}'.format(\n",
    "    #     kwh_used\n",
    "    #     )\n",
    "    # )\n",
    "    # print('\\tDistance driven: {:.2f}'.format(\n",
    "    #     mi_driven\n",
    "    #     )\n",
    "    # )\n",
    "    # print('\\tEnergy consumption rate: {:.2f}'.format(\n",
    "    #     kwh_used / mi_driven\n",
    "    #     )\n",
    "    # )\n"
   ],
   "outputs": []
  },
  {
   "cell_type": "code",
   "execution_count": 21,
   "id": "5ed8e1b3-1498-4094-9acf-09156e8b5494",
   "metadata": {},
   "source": [
    "df_by_trip = pd.DataFrame(\n",
    "    data={\n",
    "        'vehicle_id': vids,\n",
    "        'trip_id': tids,\n",
    "        'kwh': kwhs,\n",
    "        'miles': mis,\n",
    "        'kwh_per_mi': cons\n",
    "    }\n",
    ")"
   ],
   "outputs": []
  },
  {
   "cell_type": "code",
   "execution_count": 22,
   "id": "cf353965-0a36-4b60-a847-93283d48ac23",
   "metadata": {},
   "source": [
    "# Let's add route info!\n",
    "df_by_trip = df_by_trip.merge(gtfs.trips_df[['trip_id', 'route_id']], on='trip_id')"
   ],
   "outputs": []
  },
  {
   "cell_type": "code",
   "execution_count": 23,
   "id": "9dbc312a-be05-417f-abbb-f422d4496ee5",
   "metadata": {},
   "source": [
    "df_by_trip['veh_type'] = df_by_trip['vehicle_id'].str[:2]"
   ],
   "outputs": []
  },
  {
   "cell_type": "code",
   "execution_count": 24,
   "id": "7588803b-ebd7-4d28-9126-57404f9d17d0",
   "metadata": {},
   "source": [
    "df_by_trip"
   ],
   "outputs": []
  },
  {
   "cell_type": "code",
   "execution_count": 25,
   "id": "b2472f01-0077-41fc-86f3-9c38c3ec97b5",
   "metadata": {},
   "source": [
    "veh_route_df = df_by_trip.groupby(['veh_type', 'route_id'])[['kwh', 'miles']].sum()\n",
    "veh_route_df['kwh_per_mi'] = veh_route_df['kwh'] / veh_route_df['miles']"
   ],
   "outputs": []
  },
  {
   "cell_type": "code",
   "execution_count": 27,
   "id": "5cd42b94-73b7-41bb-9650-74bf7ba8f515",
   "metadata": {},
   "source": [
    "veh_route_df = veh_route_df.reset_index().merge(gtfs.routes_df.reset_index()[['route_id', 'route_short_name']].astype({'route_id': str}),\n",
    "                                 on='route_id').set_index(['veh_type', 'route_short_name'])"
   ],
   "outputs": []
  },
  {
   "cell_type": "code",
   "execution_count": 33,
   "id": "3a26c427-400c-4316-a244-6e87aa87002a",
   "metadata": {},
   "source": [
    "bus_type_df = df_by_trip.groupby('veh_type')[['kwh', 'miles']].sum()\n",
    "bus_type_df['kwh_per_mile'] = bus_type_df['kwh'] / bus_type_df['miles']\n",
    "bus_type_df"
   ],
   "outputs": []
  },
  {
   "cell_type": "code",
   "execution_count": 35,
   "id": "49e4da0d-d5d3-49ac-bc2a-0c25ab4cba4c",
   "metadata": {},
   "source": [
    "veh_summary = df_by_trip.groupby('vehicle_id')[['kwh', 'miles']].sum()\n",
    "veh_summary['kwh_per_mi'] = veh_summary['kwh'] / veh_summary['miles']"
   ],
   "outputs": []
  },
  {
   "cell_type": "code",
   "execution_count": 36,
   "id": "5945bcf0-1459-4e8c-b5b0-b9dd8c382045",
   "metadata": {},
   "source": [
    "len(veh_summary.index.tolist())"
   ],
   "outputs": []
  },
  {
   "cell_type": "code",
   "execution_count": 38,
   "id": "b13983b6-0777-423d-a760-fbb1f603ffb8",
   "metadata": {},
   "source": [
    "veh_summary"
   ],
   "outputs": []
  },
  {
   "cell_type": "code",
   "execution_count": 40,
   "id": "3f22e0a5-6ac8-45e1-8a4e-91bb75160911",
   "metadata": {},
   "source": [
    "plt.bar(x=veh_summary.index.tolist(), height=veh_summary['kwh_per_mi'].to_numpy())\n",
    "plt.xticks(rotation=90)\n",
    "plt.show()"
   ],
   "outputs": []
  },
  {
   "cell_type": "code",
   "execution_count": 58,
   "id": "e14d8fdd-5689-4245-9c5d-bec5935e483f",
   "metadata": {},
   "source": [
    "fig = go.Figure()\n",
    "for vtype, gp in df_by_trip.groupby('veh_type'):\n",
    "    fig.add_trace(go.Histogram(x=gp['kwh_per_mi'], name=vtype))\n",
    "fig.update_layout(barmode='overlay')\n",
    "fig.update_traces(opacity=0.75)\n",
    "fig.show()\n"
   ],
   "outputs": []
  },
  {
   "cell_type": "markdown",
   "id": "631faad9-3b79-46ad-9653-f88cb9e4573b",
   "metadata": {},
   "source": [
    "## Schedule deviations: how can we get these for each trip?\n",
    "For each trip, identify the row with the minimum time (i.e., the start of the trip). Take the corresponding `scheduleDeviation` value."
   ]
  },
  {
   "cell_type": "code",
   "execution_count": 59,
   "id": "e6e1566a-7edd-4b14-b01d-484f04e2f720",
   "metadata": {},
   "source": [
    "trip_min_times = rt_df.groupby('trip_id')['locationtime'].min()\n",
    "# rt_df.set_index(['trip_id', 'locationtime'])"
   ],
   "outputs": []
  },
  {
   "cell_type": "code",
   "execution_count": 60,
   "id": "bd10ffa5-9b01-484c-a3b4-13efb49819eb",
   "metadata": {},
   "source": [
    "trip_min_times"
   ],
   "outputs": []
  },
  {
   "cell_type": "code",
   "execution_count": 61,
   "id": "a25723e2-7d7a-42c1-9a76-b0c103f22858",
   "metadata": {},
   "source": [
    "trip_delays = trip_min_times.to_frame().reset_index().merge(\n",
    "    rt_df[['trip_id', 'locationtime', 'scheduleDeviation']], on=['trip_id', 'locationtime']\n",
    ")\n",
    "trip_delays['scheduled_start_inferred'] = trip_delays['locationtime'] - pd.to_timedelta(\n",
    "    trip_delays['scheduleDeviation'], unit='s'\n",
    ")"
   ],
   "outputs": []
  },
  {
   "cell_type": "code",
   "execution_count": 65,
   "id": "abc6f384-c753-4bd2-ae2f-764e193c3cd9",
   "metadata": {},
   "source": [
    "trip_delays.head()"
   ],
   "outputs": []
  },
  {
   "cell_type": "code",
   "execution_count": 66,
   "id": "0dd45ff8-28ab-4a96-a7f0-bb34c68273f9",
   "metadata": {},
   "source": [
    "gtfs.stop_times_df['arrival_time'] = to_datetime_safe(\n",
    "    gtfs.stop_times_df['arrival_time'], datetime.datetime(2024, 4, 1)\n",
    ")"
   ],
   "outputs": []
  },
  {
   "cell_type": "code",
   "execution_count": 67,
   "id": "6bca41ea-0599-4035-8238-34fd5438a1e6",
   "metadata": {},
   "source": [
    "gtfs.stop_times_df['trip_id'] = gtfs.stop_times_df['trip_id'].astype(str)"
   ],
   "outputs": []
  },
  {
   "cell_type": "code",
   "execution_count": 68,
   "id": "d7ceeb84-a613-4594-b710-7e5d78e07a49",
   "metadata": {},
   "source": [
    "min_stop_times = gtfs.stop_times_df.groupby('trip_id')['arrival_time'].min()"
   ],
   "outputs": []
  },
  {
   "cell_type": "code",
   "execution_count": 69,
   "id": "a48734ff-d0b4-4ece-8a7d-0f15237456b2",
   "metadata": {},
   "source": [
    "trip_delays = trip_delays.merge(\n",
    "    min_stop_times.reset_index(), on='trip_id'\n",
    ").rename(columns={'arrival_time': 'scheduled_start_gtfs'})"
   ],
   "outputs": []
  },
  {
   "cell_type": "code",
   "execution_count": 70,
   "id": "20b1fa4e-7620-46af-aeed-863a01a0f279",
   "metadata": {},
   "source": [
    "trip_delays = trip_delays.set_index('trip_id')"
   ],
   "outputs": []
  },
  {
   "cell_type": "code",
   "execution_count": 71,
   "id": "b90cb1f6-42cc-4ec5-b146-05262c4252a8",
   "metadata": {},
   "source": [
    "rt_df.set_index('trip_id').loc['664463016']"
   ],
   "outputs": []
  },
  {
   "cell_type": "code",
   "execution_count": 72,
   "id": "4ce44501-6890-4e1a-81d0-0df46e5fbc96",
   "metadata": {},
   "source": [
    "start_diffs = trip_delays['scheduled_start_inferred'] - trip_delays['scheduled_start_gtfs'].dt.tz_localize('US/Pacific')\n",
    "start_diffs"
   ],
   "outputs": []
  },
  {
   "cell_type": "code",
   "execution_count": 73,
   "id": "f81dcb54-8904-4ff3-ab69-b7e6bd73c860",
   "metadata": {},
   "source": [
    "start_diffs[abs(start_diffs.dt.total_seconds()) > 300].dt.total_seconds()"
   ],
   "outputs": []
  },
  {
   "cell_type": "markdown",
   "id": "0a5cf9b4-348b-4bf2-b78f-db04ed41a6fb",
   "metadata": {},
   "source": [
    "**What have we learned from this?**\n",
    "The scheduleDeviation value, combined with the trip start time, is usually well aligned with the static GTFS data. The exceptions to this trend point to some clear outliers -- for example, when there is a random blip in the data where we have a single point recorded way too early for a trip (which may cause problems elsewhere when we try to detect when trips start/end), or only a single point for the whole trip!\n",
    "\n",
    "**What should we do about it?**\n",
    "I think we should do some early cleanup for every trip, removing points that seem like they don't belong as part of that trip (maybe even reassigning them to another trip?)"
   ]
  },
  {
   "cell_type": "markdown",
   "id": "da7c814c-0b56-4b24-b5d8-93cd77ea24a2",
   "metadata": {},
   "source": [
    "# Cleaning up trip IDs in realtime data"
   ]
  },
  {
   "cell_type": "code",
   "execution_count": 74,
   "id": "820845ff-cfaa-4a14-8e80-1afbd1958cff",
   "metadata": {},
   "source": [
    "rt_cleaned = rt_df.copy()"
   ],
   "outputs": []
  },
  {
   "cell_type": "code",
   "execution_count": 75,
   "id": "844a4246-8c16-457f-99cb-503ad36c632e",
   "metadata": {},
   "source": [
    "# Pick a single trip for testing\n",
    "all_tids = rt_df['trip_id'].unique()\n",
    "offset = 0\n",
    "problem_dfs = list()\n",
    "full_bad_dfs = list()\n",
    "for tid in all_tids[offset:offset+10]:\n",
    "    trip_df = rt_df[rt_df['trip_id'] == tid].sort_values(by='locationtime')\n",
    "    trip_df['next_time'] = trip_df['locationtime'].shift(-1)\n",
    "    trip_df['gap_to_next'] = (trip_df['next_time'] - trip_df['locationtime']).dt.total_seconds()\n",
    "    bad_times = trip_df[trip_df['gap_to_next'] > 300]['locationtime']\n",
    "    if len(bad_times) > 0:\n",
    "        full_bad_dfs.append(trip_df)\n",
    "    vid = trip_df['vehicle_id'].unique()[0]\n",
    "    for bt in bad_times:\n",
    "        # TODO: this isn't always getting at the issue; often we're just identifying a change in trips\n",
    "        problem_dfs.append(get_time_neighborhood(rt_df, vid, bt - datetime.timedelta(minutes=2)))"
   ],
   "outputs": []
  },
  {
   "cell_type": "code",
   "execution_count": 394,
   "id": "732a5abf-ab53-467e-b874-de857a5a38ad",
   "metadata": {},
   "source": [
    "len(full_bad_dfs)"
   ],
   "outputs": []
  },
  {
   "cell_type": "code",
   "execution_count": 380,
   "id": "da52b2a8-a295-4702-9b8b-4aef8118df25",
   "metadata": {},
   "source": [
    "len(problem_dfs)"
   ],
   "outputs": []
  },
  {
   "cell_type": "markdown",
   "id": "38550be8-fe35-4b21-973d-52b97ef0ba83",
   "metadata": {},
   "source": [
    "This still isn't giving us the full picture, because we need all trips done by the vehicle."
   ]
  },
  {
   "cell_type": "code",
   "execution_count": 397,
   "id": "67348d88-50aa-4bf6-833b-c74a6012e331",
   "metadata": {},
   "source": [
    "full_bad_dfs[0][full_bad_dfs[0]['gap_to_next'] > 300]"
   ],
   "outputs": []
  },
  {
   "cell_type": "markdown",
   "id": "b7ec867d-cbbf-48ec-b399-168a27e231ab",
   "metadata": {},
   "source": [
    "### Why haven't I been trying to use `nextStop` all along??\n",
    "I think that pulling in the next stop information can help us identify when a trip has been included mistakenly."
   ]
  },
  {
   "cell_type": "code",
   "execution_count": 76,
   "id": "c9ef84af-6438-408b-94cc-153fee0524ed",
   "metadata": {},
   "source": [
    "stop_times_df = pd.read_csv('../beb_chargers/data/gtfs/metro_mar24/stop_times.txt')\n",
    "stop_times_df = stop_times_df.astype(\n",
    "    {'trip_id': str, 'stop_id': str}\n",
    ")"
   ],
   "outputs": []
  },
  {
   "cell_type": "code",
   "execution_count": 77,
   "id": "6e89c06d-cc36-4083-be60-f566e88b52b2",
   "metadata": {},
   "source": [
    "rt_df = rt_df.merge(\n",
    "    stop_times_df[['trip_id', 'stop_id', 'arrival_time', 'departure_time']],\n",
    "    right_on=['trip_id', 'stop_id'], left_on=['trip_id', 'nextStop']\n",
    ")"
   ],
   "outputs": []
  },
  {
   "cell_type": "code",
   "execution_count": 78,
   "id": "fbfd4bc2-554f-4910-a2fc-6120ef348c1d",
   "metadata": {},
   "source": [
    "rt_df[rt_df['vehicle_id'] == '4715'].sort_values(by='locationtime')"
   ],
   "outputs": []
  },
  {
   "cell_type": "code",
   "execution_count": 80,
   "id": "e5f000ca-277b-457d-88b4-7004058cc441",
   "metadata": {},
   "source": [
    "def get_time_neighborhood(realtime_df, vehicle_id, time_cutoff):\n",
    "    return realtime_df[\n",
    "        (realtime_df['vehicle_id'] == vehicle_id) & (\n",
    "            realtime_df['locationtime'] >= time_cutoff)].head(10)\n",
    "    "
   ],
   "outputs": []
  },
  {
   "cell_type": "code",
   "execution_count": 81,
   "id": "ad48f2e6-9d55-4b6d-979c-605e0248460d",
   "metadata": {},
   "source": [
    "get_time_neighborhood(rt_df, '4703', pd.to_datetime('2024-04-01 05:09:30-07:00'))"
   ],
   "outputs": []
  },
  {
   "cell_type": "markdown",
   "id": "a6549897-d6f5-48d2-a393-943b6b591793",
   "metadata": {},
   "source": [
    "**Documenting issues found**\n",
    "- Trip 635436106: one extra measurement an hour and ahalf after trip has seemingly ended, when there is already 2 hours of downtime between trips (`get_time_neighborhood(rt_df, '4703', pd.to_datetime('2024-04-01 05:09:30-07:00'))`)"
   ]
  },
  {
   "cell_type": "code",
   "execution_count": 316,
   "id": "23f48c83-fc2d-4487-a998-1f76149ff58d",
   "metadata": {},
   "source": [
    "trips_gb = rt_cleaned.groupby('trip_id')\n",
    "for tid, trip_df in trips_gb:\n",
    "    "
   ],
   "outputs": []
  },
  {
   "cell_type": "markdown",
   "id": "d622a17e-aace-41fb-937f-bff62c386a6b",
   "metadata": {},
   "source": [
    "One problem... what we really want to model is trip duration, not delay at the start of the next trip. This might be challenging with the arbitrary nature of trip_id value changes."
   ]
  },
  {
   "cell_type": "code",
   "execution_count": 194,
   "id": "462d2716-bd36-4229-8a7d-6299b23ae167",
   "metadata": {},
   "source": [
    "trip_delays['scheduleDeviation'].describe()"
   ],
   "outputs": []
  },
  {
   "cell_type": "code",
   "execution_count": null,
   "id": "08bedb56-d522-40d6-a90c-d061bcdfc935",
   "metadata": {},
   "source": [],
   "outputs": []
  },
  {
   "cell_type": "markdown",
   "id": "8760caaa-7118-4119-8ac0-6cc0a9349e00",
   "metadata": {},
   "source": [
    "### Up next: bring in GTFS schedule data to get trip details"
   ]
  },
  {
   "cell_type": "code",
   "execution_count": 133,
   "id": "caab6ae4-97a3-46a9-9b8c-bc774f647026",
   "metadata": {},
   "source": [
    "gtfs = GTFSData.from_dir('../beb_chargers/data/gtfs/metro_mar24')"
   ],
   "outputs": []
  },
  {
   "cell_type": "markdown",
   "id": "ee66b94a-2bc7-4bf7-a1e5-0c3049126b2f",
   "metadata": {},
   "source": [
    "## Testing XALT"
   ]
  },
  {
   "cell_type": "code",
   "execution_count": 229,
   "id": "e45bb9a8-f888-43e0-95af-048872baf429",
   "metadata": {},
   "source": [
    "xalt_df = pd.read_csv('../beb_chargers/data/viriciti/xalt_params_test.csv')"
   ],
   "outputs": []
  },
  {
   "cell_type": "code",
   "execution_count": 235,
   "id": "466e6036-6221-4406-9349-cea7e5f55a5f",
   "metadata": {},
   "source": [
    "xalt_na_sums = xalt_df.isna().sum()\n",
    "xalt_used_cols = [c for c in xalt_df.columns if xalt_na_sums[c] != len(xalt_df)]\n",
    "xalt_df = xalt_df[xalt_used_cols]\n",
    "xalt_df['ISO Time'] = pd.to_datetime(\n",
    "        xalt_df['ISO Time']).dt.tz_convert('US/Pacific')\n",
    "xalt_df = xalt_df.set_index('ISO Time')"
   ],
   "outputs": []
  },
  {
   "cell_type": "code",
   "execution_count": 246,
   "id": "890d7aad-69de-4df3-a113-d8befa1d8c9c",
   "metadata": {},
   "source": [
    "xalt_df[xalt_df['Name'] == 4700]['AUX INVERTER POWER (kW)'].sort_index().resample('1min').mean().plot()"
   ],
   "outputs": []
  },
  {
   "cell_type": "code",
   "execution_count": 255,
   "id": "81a8becc-73d1-4d57-a9e8-db7c1772d824",
   "metadata": {},
   "source": [
    "# xalt_df[xalt_df['Name'] == 4700]['BMU State of Charge'].sort_index().resample('1min').mean().plot(label='SOC')\n",
    "# xalt_df[xalt_df['Name'] == 4700]['BMU Total Battery Voltage'].sort_index().resample('1min').mean().plot(label='Voltage')\n",
    "# xalt_df[xalt_df['Name'] == 4700]['BMU Total Battery Current'].sort_index().resample('1min').mean().plot(label='Current')\n",
    "xalt_df[xalt_df['Name'] == 4700]['Ambient Temperature'].sort_index().resample('1min').mean().plot(label='Temperature')\n",
    "plt.legend()"
   ],
   "outputs": []
  },
  {
   "cell_type": "code",
   "execution_count": 248,
   "id": "75dd46b8-1139-49e2-92a5-c71f2d6812c5",
   "metadata": {},
   "source": [
    "xalt_used_cols"
   ],
   "outputs": []
  },
  {
   "cell_type": "code",
   "execution_count": 256,
   "id": "14cdc57c-0e21-4be8-bb0d-5762c79f22e2",
   "metadata": {},
   "source": [
    "vc_df"
   ],
   "outputs": []
  },
  {
   "cell_type": "markdown",
   "id": "03e9f3a1-eaf4-460a-a886-aaeaa73d4b41",
   "metadata": {},
   "source": [
    "# Designing the next ViriCiti downloads"
   ]
  },
  {
   "cell_type": "markdown",
   "id": "439f9312-dfd0-49ba-ae2a-c3d85999a0ac",
   "metadata": {},
   "source": [
    "### Which data fields do we want to include?\n",
    "- distance driven per day\n",
    "- filtered SoC\n",
    "- energy used in service per day\n",
    "- energy used per day\n",
    "- energy used not in service per day\n",
    "- energy consumed per day (not yet sure what the difference is)\n",
    "- energy charged per day\n",
    "- driven time per day\n",
    "\n",
    "### What time range should be covered?\n",
    "- To start, let's try all the dates Zack shared realtime data from\n",
    "\n",
    "### What frequency should we use?\n",
    "- Let's try 10 seconds for now"
   ]
  },
  {
   "cell_type": "code",
   "execution_count": 261,
   "id": "1420bd86-d5b0-45f6-8e93-f6019abafe23",
   "metadata": {},
   "source": [
    "vc_df[vc_df['Name']=='4700'].sort_values(by='ISO Time')"
   ],
   "outputs": []
  },
  {
   "cell_type": "markdown",
   "id": "288a64fb-a51c-4d4b-94ae-a6a3c9728138",
   "metadata": {},
   "source": [
    "# Testing on all data"
   ]
  },
  {
   "cell_type": "code",
   "execution_count": 166,
   "id": "b92a5803-2f7a-45dd-8838-c9b2024edc5a",
   "metadata": {},
   "source": [
    "prefix = '../beb_chargers/data/realtime/kcm_realtime_new'\n",
    "rt_files = sorted(os.listdir(prefix))\n",
    "rt_dfs = list()\n",
    "for pkl_name in rt_files:\n",
    "    temp_df = pd.read_pickle(prefix + '/' + pkl_name).reset_index(drop=True)\n",
    "    temp_df = temp_df.astype(\n",
    "        dtype={\n",
    "            'vehicle_id': str,\n",
    "            'scheduleDeviation': int\n",
    "        }\n",
    "    )\n",
    "    # Convert time column to datetime and change time zone\n",
    "    temp_df['locationtime'] = pd.to_datetime(\n",
    "        temp_df['locationtime'].astype(int), unit='s', utc=True).dt.tz_convert('US/Pacific')\n",
    "    rt_dfs.append(temp_df)\n",
    "full_rt_df = pd.concat(rt_dfs)"
   ],
   "outputs": []
  },
  {
   "cell_type": "code",
   "execution_count": 180,
   "id": "66177a4c-064d-450f-81ce-81fbdd46e951",
   "metadata": {},
   "source": [
    "rt_files"
   ],
   "outputs": []
  },
  {
   "cell_type": "code",
   "execution_count": 181,
   "id": "61cb600d-afa7-469b-bdd9-37b959992983",
   "metadata": {},
   "source": [
    "used_cols"
   ],
   "outputs": []
  },
  {
   "cell_type": "code",
   "execution_count": 173,
   "id": "ff49e589-b188-4a54-98a1-39ecccf24172",
   "metadata": {},
   "source": [
    "full_rt_df.head()"
   ],
   "outputs": []
  },
  {
   "cell_type": "code",
   "execution_count": 169,
   "id": "55bde07a-dd68-4fbd-a0da-00bc56b7e9c0",
   "metadata": {},
   "source": [
    "full_rt_df = full_rt_df[full_rt_df['vehicle_id'].isin(vids)]"
   ],
   "outputs": []
  },
  {
   "cell_type": "code",
   "execution_count": 170,
   "id": "27bbaa7e-5cf6-405a-b276-d94af5cdc7e2",
   "metadata": {},
   "source": [
    "len(full_rt_df)"
   ],
   "outputs": []
  },
  {
   "cell_type": "code",
   "execution_count": 179,
   "id": "f807cdc0-55be-4677-a568-4ec1fa59df66",
   "metadata": {},
   "source": [
    "full_rt_df.groupby('trip_id')['vehicle_id'].nunique().sort_values()"
   ],
   "outputs": []
  },
  {
   "cell_type": "code",
   "execution_count": null,
   "id": "82a36e3e-e2be-44aa-bbdf-d5503093f87a",
   "metadata": {},
   "source": [],
   "outputs": []
  }
 ],
 "metadata": {
  "kernelspec": {
   "display_name": "Python 3 (ipykernel)",
   "language": "python",
   "name": "python3"
  },
  "language_info": {
   "codemirror_mode": {
    "name": "ipython",
    "version": 3
   },
   "file_extension": ".py",
   "mimetype": "text/x-python",
   "name": "python",
   "nbconvert_exporter": "python",
   "pygments_lexer": "ipython3",
   "version": "3.12.3"
  }
 },
 "nbformat": 4,
 "nbformat_minor": 5
}
